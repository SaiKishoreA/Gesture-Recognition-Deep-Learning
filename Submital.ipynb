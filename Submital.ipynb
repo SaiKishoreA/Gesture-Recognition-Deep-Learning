{
 "cells": [
  {
   "cell_type": "markdown",
   "metadata": {},
   "source": [
    "# Gesture Recognition\n",
    "In this group project, you are going to build a 3D Conv model that will be able to predict the 5 gestures correctly. Please import the following libraries to get started."
   ]
  },
  {
   "cell_type": "code",
   "execution_count": 1,
   "metadata": {},
   "outputs": [],
   "source": [
    "import numpy as np\n",
    "import os\n",
    "from scipy.misc import imread, imresize\n",
    "import datetime\n",
    "import os\n",
    "from skimage.transform import resize"
   ]
  },
  {
   "cell_type": "markdown",
   "metadata": {},
   "source": [
    "We set the random seed so that the results don't vary drastically."
   ]
  },
  {
   "cell_type": "code",
   "execution_count": 3,
   "metadata": {},
   "outputs": [],
   "source": [
    "np.random.seed(30)\n",
    "import random as rn\n",
    "rn.seed(30)\n",
    "from keras import backend as K\n",
    "import tensorflow as tf\n",
    "tf.set_random_seed(30)"
   ]
  },
  {
   "cell_type": "markdown",
   "metadata": {},
   "source": [
    "In this block, you read the folder names for training and validation. You also set the `batch_size` here. Note that you set the batch size in such a way that you are able to use the GPU in full capacity. You keep increasing the batch size until the machine throws an error."
   ]
  },
  {
   "cell_type": "code",
   "execution_count": 4,
   "metadata": {},
   "outputs": [],
   "source": [
    "train_doc = np.random.permutation(open('train.csv').readlines())\n",
    "val_doc = np.random.permutation(open('val.csv').readlines())\n",
    "batch_size = 10  #experiment with the batch size"
   ]
  },
  {
   "cell_type": "markdown",
   "metadata": {},
   "source": [
    "## Generator\n",
    "This is one of the most important part of the code. The overall structure of the generator has been given. In the generator, you are going to preprocess the images as you have images of 2 different dimensions as well as create a batch of video frames. You have to experiment with `img_idx`, `y`,`z` and normalization such that you get high accuracy."
   ]
  },
  {
   "cell_type": "code",
   "execution_count": 5,
   "metadata": {},
   "outputs": [],
   "source": [
    "def generator(source_path, folder_list, batch_size):\n",
    "    print( 'Source path = ', source_path, '; batch size =', batch_size)\n",
    "    img_idx = [x for x in range(0, 30,2)] #create a list of image numbers you want to use for a particular video\n",
    "    while True:\n",
    "        t = np.random.permutation(folder_list)\n",
    "        num_batches =int(len(t)/batch_size) # calculate the number of batches\n",
    "        for batch in range(num_batches): # we iterate over the number of batches\n",
    "            x = len(img_idx)\n",
    "            y = 120\n",
    "            z = 120\n",
    "            batch_data = np.zeros((batch_size,x,y,z,3)) # x is the number of images you use for each video, (y,z) is the final size of the input images and 3 is the number of channels RGB\n",
    "            batch_labels = np.zeros((batch_size,5)) # batch_labels is the one hot representation of the output\n",
    "            ct_img=0\n",
    "            #             print(\"batch: \",batch)\n",
    "\n",
    "            for folder in range(batch_size): # iterate over the batch_size\n",
    "                imgs = os.listdir(source_path+'/'+ t[folder + (batch*batch_size)].split(';')[0]) # read all the images in the folder\n",
    "                ct_img+=1\n",
    "                for idx,item in enumerate(img_idx): #  Iterate iver the frames/images of a folder to read them in\n",
    "                    image = imread(source_path+'/'+ t[folder + (batch*batch_size)].strip().split(';')[0]+'/'+imgs[item]).astype(np.float32)\n",
    "                    \n",
    "                    #crop the images and resize them. Note that the images are of 2 different shape \n",
    "                    #and the conv3D will throw error if the inputs in a batch have different shapes\n",
    "                     \n",
    "                    image_resized=resize(image, (120,120), mode='reflect')\n",
    "                    \n",
    "                    batch_data[folder,idx,:,:,0] = (image_resized[:,:,0])#normalise and feed in the image\n",
    "                    batch_data[folder,idx,:,:,1] = (image_resized[:,:,1])#normalise and feed in the image\n",
    "                    batch_data[folder,idx,:,:,2] = (image_resized[:,:,2]) #normalise and feed in the image\n",
    "                    \n",
    "                batch_labels[folder, int(t[folder + (batch*batch_size)].strip().split(';')[2])] = 1\n",
    "            yield batch_data, batch_labels #you yield the batch_data and the batch_labels, remember what does yield do\n",
    "\n",
    "        \n",
    "        # write the code for the remaining data points which are left after full batches\n",
    "        ct_img=0\n",
    "        batch_cover = num_batches*batch_size\n",
    "        rem = len(t) - batch_cover\n",
    "        if(len(t)!=batch_cover):\n",
    "            for folder in range(rem):\n",
    "                imgs = os.listdir(source_path+'/'+ t[folder + batch_cover].split(';')[0]) # read all the images in the folder\n",
    "                ct_img+=1\n",
    "                for idx,item in enumerate(img_idx): #  Iterate iver the frames/images of a folder to read them in\n",
    "                    image = imread(source_path+'/'+ t[folder + batch_cover].strip().split(';')[0]+'/'+imgs[item]).astype(np.float32)\n",
    "                    \n",
    "                    #crop the images and resize them. Note that the images are of 2 different shape \n",
    "                    #and the conv3D will throw error if the inputs in a batch have different shapes\n",
    "                    \n",
    "                    image_resized=resize(image, (120,120), mode='reflect')\n",
    "                    \n",
    "                    batch_data[folder,idx,:,:,0] = (image_resized[:,:,0]) #normalise and feed in the image\n",
    "                    batch_data[folder,idx,:,:,1] = (image_resized[:,:,1]) #normalise and feed in the image\n",
    "                    batch_data[folder,idx,:,:,2] = (image_resized[:,:,2]) #normalise and feed in the image\n",
    "                    \n",
    "                batch_labels[folder, int(t[folder + batch_size].strip().split(';')[2])] = 1\n",
    "#             print(\"\\nbatchlast:\", batch,\" ct_imglast: \",ct_img, \"pathlast:\", source_path)\n",
    "            yield batch_data, batch_labels #you yield the batch_data and the batch_labels, remember what does yield do\n"
   ]
  },
  {
   "cell_type": "markdown",
   "metadata": {},
   "source": [
    "Note here that a video is represented above in the generator as (number of images, height, width, number of channels). Take this into consideration while creating the model architecture."
   ]
  },
  {
   "cell_type": "code",
   "execution_count": 6,
   "metadata": {},
   "outputs": [
    {
     "name": "stdout",
     "output_type": "stream",
     "text": [
      "# training sequences = 663\n",
      "# validation sequences = 100\n",
      "# epochs = 10\n"
     ]
    }
   ],
   "source": [
    "curr_dt_time = datetime.datetime.now()\n",
    "#train_path = '/notebooks/storage/Final_data/Collated_training/train'\n",
    "#val_path = '/notebooks/storage/Final_data/Collated_training/val'\n",
    "train_path='train/'\n",
    "val_path= 'val/'\n",
    "\n",
    "num_train_sequences = len(train_doc)\n",
    "print('# training sequences =', num_train_sequences)\n",
    "num_val_sequences = len(val_doc)\n",
    "print('# validation sequences =', num_val_sequences)\n",
    "num_epochs =10 # choose the number of epochs\n",
    "print ('# epochs =', num_epochs)"
   ]
  },
  {
   "cell_type": "markdown",
   "metadata": {},
   "source": [
    "## Model\n",
    "Here you make the model using different functionalities that Keras provides. Remember to use `Conv3D` and `MaxPooling3D` and not `Conv2D` and `Maxpooling2D` for a 3D convolution model. You would want to use `TimeDistributed` while building a Conv2D + RNN model. Also remember that the last layer is the softmax. Design the network in such a way that the model is able to give good accuracy on the least number of parameters so that it can fit in the memory of the webcam."
   ]
  },
  {
   "cell_type": "markdown",
   "metadata": {},
   "source": [
    "#### Model1 - Conv3D layers + BatchNormalization"
   ]
  },
  {
   "cell_type": "code",
   "execution_count": 7,
   "metadata": {},
   "outputs": [],
   "source": [
    "from keras.models import Sequential, Model\n",
    "from keras.layers import Dense, GRU, Flatten, TimeDistributed, Flatten, BatchNormalization, Activation, Dropout\n",
    "from keras.layers.convolutional import Conv3D, MaxPooling3D, AveragePooling3D\n",
    "from keras.callbacks import ModelCheckpoint, ReduceLROnPlateau\n",
    "from keras.losses import categorical_crossentropy\n",
    "from keras.optimizers import Adam\n",
    "\n",
    "#write your model here\n",
    "curr_dt_time = datetime.datetime.now()\n",
    "\n",
    "batch_size = 10 #experiment with the batch size\n",
    "num_epochs = 15 # choose the number of epochs\n",
    "\n",
    "nb_filters = [8,16,32,64]\n",
    "nb_dense = [32, 32, 5]\n",
    "\n",
    "kernel = (2,2,2)\n",
    "frames=15\n",
    "# Input\n",
    "input_shape=(frames,120,120,3)\n",
    "\n",
    "# Define model\n",
    "model = Sequential()\n",
    "\n",
    "model.add(Conv3D(nb_filters[0], kernel_size=kernel, input_shape=input_shape,padding='same'))\n",
    "model.add(BatchNormalization())\n",
    "model.add(Activation('relu'))\n",
    "\n",
    "model.add(AveragePooling3D(pool_size=(2,2,2)))\n",
    "\n",
    "model.add(Conv3D(nb_filters[1], kernel_size=kernel,padding='same'))\n",
    "model.add(BatchNormalization())\n",
    "model.add(Activation('relu'))\n",
    "\n",
    "model.add(AveragePooling3D(pool_size=(2,2,2)))\n",
    "\n",
    "model.add(Conv3D(nb_filters[2], kernel_size=kernel,padding='same'))\n",
    "model.add(BatchNormalization())\n",
    "model.add(Activation('relu'))\n",
    "\n",
    "model.add(AveragePooling3D(pool_size=(2,2,2)))\n",
    "\n",
    "model.add(Conv3D(nb_filters[3], kernel_size=kernel,padding='same'))\n",
    "model.add(Activation('relu'))\n",
    "model.add(Dropout(0.25))\n",
    "\n",
    "model.add(Conv3D(nb_filters[3], kernel_size=kernel,padding='same'))\n",
    "model.add(Activation('relu'))\n",
    "model.add(Dropout(0.25))\n",
    "\n",
    "# model.add(MaxPooling3D(pool_size=(2,2,2)))\n",
    "\n",
    "#Flatten Layers\n",
    "model.add(Flatten())\n",
    "\n",
    "model.add(Dense(nb_dense[0], activation='relu'))\n",
    "model.add(Dropout(0.25))\n",
    "          \n",
    "model.add(Dense(nb_dense[0], activation='relu'))\n",
    "model.add(Dropout(0.25))\n",
    "\n",
    "\n",
    "#softmax layer\n",
    "model.add(Dense(nb_dense[2], activation='softmax'))\n"
   ]
  },
  {
   "cell_type": "markdown",
   "metadata": {},
   "source": [
    "Now that you have written the model, the next step is to `compile` the model. When you print the `summary` of the model, you'll see the total number of parameters you have to train."
   ]
  },
  {
   "cell_type": "code",
   "execution_count": 8,
   "metadata": {
    "scrolled": true
   },
   "outputs": [
    {
     "name": "stdout",
     "output_type": "stream",
     "text": [
      "_________________________________________________________________\n",
      "Layer (type)                 Output Shape              Param #   \n",
      "=================================================================\n",
      "conv3d_1 (Conv3D)            (None, 15, 120, 120, 8)   200       \n",
      "_________________________________________________________________\n",
      "batch_normalization_1 (Batch (None, 15, 120, 120, 8)   32        \n",
      "_________________________________________________________________\n",
      "activation_1 (Activation)    (None, 15, 120, 120, 8)   0         \n",
      "_________________________________________________________________\n",
      "average_pooling3d_1 (Average (None, 7, 60, 60, 8)      0         \n",
      "_________________________________________________________________\n",
      "conv3d_2 (Conv3D)            (None, 7, 60, 60, 16)     1040      \n",
      "_________________________________________________________________\n",
      "batch_normalization_2 (Batch (None, 7, 60, 60, 16)     64        \n",
      "_________________________________________________________________\n",
      "activation_2 (Activation)    (None, 7, 60, 60, 16)     0         \n",
      "_________________________________________________________________\n",
      "average_pooling3d_2 (Average (None, 3, 30, 30, 16)     0         \n",
      "_________________________________________________________________\n",
      "conv3d_3 (Conv3D)            (None, 3, 30, 30, 32)     4128      \n",
      "_________________________________________________________________\n",
      "batch_normalization_3 (Batch (None, 3, 30, 30, 32)     128       \n",
      "_________________________________________________________________\n",
      "activation_3 (Activation)    (None, 3, 30, 30, 32)     0         \n",
      "_________________________________________________________________\n",
      "average_pooling3d_3 (Average (None, 1, 15, 15, 32)     0         \n",
      "_________________________________________________________________\n",
      "conv3d_4 (Conv3D)            (None, 1, 15, 15, 64)     16448     \n",
      "_________________________________________________________________\n",
      "activation_4 (Activation)    (None, 1, 15, 15, 64)     0         \n",
      "_________________________________________________________________\n",
      "dropout_1 (Dropout)          (None, 1, 15, 15, 64)     0         \n",
      "_________________________________________________________________\n",
      "conv3d_5 (Conv3D)            (None, 1, 15, 15, 64)     32832     \n",
      "_________________________________________________________________\n",
      "activation_5 (Activation)    (None, 1, 15, 15, 64)     0         \n",
      "_________________________________________________________________\n",
      "dropout_2 (Dropout)          (None, 1, 15, 15, 64)     0         \n",
      "_________________________________________________________________\n",
      "flatten_1 (Flatten)          (None, 14400)             0         \n",
      "_________________________________________________________________\n",
      "dense_1 (Dense)              (None, 32)                460832    \n",
      "_________________________________________________________________\n",
      "dropout_3 (Dropout)          (None, 32)                0         \n",
      "_________________________________________________________________\n",
      "dense_2 (Dense)              (None, 32)                1056      \n",
      "_________________________________________________________________\n",
      "dropout_4 (Dropout)          (None, 32)                0         \n",
      "_________________________________________________________________\n",
      "dense_3 (Dense)              (None, 5)                 165       \n",
      "=================================================================\n",
      "Total params: 516,925\n",
      "Trainable params: 516,813\n",
      "Non-trainable params: 112\n",
      "_________________________________________________________________\n",
      "None\n"
     ]
    }
   ],
   "source": [
    "optimiser ='Adam' #write your optimizer\n",
    "model.compile(optimizer=optimiser, loss='categorical_crossentropy', metrics=['categorical_accuracy'])\n",
    "print (model.summary())"
   ]
  },
  {
   "cell_type": "markdown",
   "metadata": {},
   "source": [
    "Let us create the `train_generator` and the `val_generator` which will be used in `.fit_generator`."
   ]
  },
  {
   "cell_type": "code",
   "execution_count": 9,
   "metadata": {},
   "outputs": [],
   "source": [
    "train_generator = generator(train_path, train_doc, batch_size)\n",
    "val_generator = generator(val_path, val_doc, batch_size)"
   ]
  },
  {
   "cell_type": "code",
   "execution_count": 10,
   "metadata": {},
   "outputs": [],
   "source": [
    "model_name = 'model_init' + '_' + str(curr_dt_time).replace(' ','').replace(':','_') + '/'\n",
    "    \n",
    "if not os.path.exists(model_name):\n",
    "    os.mkdir(model_name)\n",
    "        \n",
    "filepath = model_name + 'model-{epoch:05d}-{loss:.5f}-{categorical_accuracy:.5f}-{val_loss:.5f}-{val_categorical_accuracy:.5f}.h5'\n",
    "\n",
    "checkpoint = ModelCheckpoint(filepath, monitor='val_loss', verbose=1, save_best_only=False, save_weights_only=False, mode='auto', period=1)\n",
    "\n",
    "LR = ReduceLROnPlateau(monitor='val_loss', factor=0.01, patience=5, cooldown=4, verbose=1,mode='auto',min_delta=0.0001)\n",
    "callbacks_list = [checkpoint, LR]"
   ]
  },
  {
   "cell_type": "markdown",
   "metadata": {},
   "source": [
    "The `steps_per_epoch` and `validation_steps` are used by `fit_generator` to decide the number of next() calls it need to make."
   ]
  },
  {
   "cell_type": "code",
   "execution_count": 11,
   "metadata": {},
   "outputs": [],
   "source": [
    "if (num_train_sequences%batch_size) == 0:\n",
    "    steps_per_epoch = int(num_train_sequences/batch_size)\n",
    "else:\n",
    "    steps_per_epoch = (num_train_sequences//batch_size) + 1\n",
    "\n",
    "if (num_val_sequences%batch_size) == 0:\n",
    "    validation_steps = int(num_val_sequences/batch_size)\n",
    "else:\n",
    "    validation_steps = (num_val_sequences//batch_size) + 1"
   ]
  },
  {
   "cell_type": "markdown",
   "metadata": {},
   "source": [
    "Let us now fit the model. This will start training the model and with the help of the checkpoints, you'll be able to save the model at the end of each epoch."
   ]
  },
  {
   "cell_type": "code",
   "execution_count": 12,
   "metadata": {},
   "outputs": [
    {
     "name": "stdout",
     "output_type": "stream",
     "text": [
      "Source path =  val/ ; batch size = Source path =  train/ ; batch size = 10\n",
      "10Epoch 1/15\n",
      "\n"
     ]
    },
    {
     "name": "stderr",
     "output_type": "stream",
     "text": [
      "/mnt/disks/user/anaconda3/lib/python3.6/site-packages/ipykernel_launcher.py:20: DeprecationWarning: `imread` is deprecated!\n",
      "`imread` is deprecated in SciPy 1.0.0, and will be removed in 1.2.0.\n",
      "Use ``imageio.imread`` instead.\n",
      "/mnt/disks/user/anaconda3/lib/python3.6/site-packages/skimage/transform/_warps.py:110: UserWarning: Anti-aliasing will be enabled by default in skimage 0.15 to avoid aliasing artifacts when down-sampling images.\n",
      "  warn(\"Anti-aliasing will be enabled by default in skimage 0.15 to \"\n"
     ]
    },
    {
     "name": "stdout",
     "output_type": "stream",
     "text": [
      "66/67 [============================>.] - ETA: 2s - loss: 1.6125 - categorical_accuracy: 0.2242"
     ]
    },
    {
     "name": "stderr",
     "output_type": "stream",
     "text": [
      "/mnt/disks/user/anaconda3/lib/python3.6/site-packages/ipykernel_launcher.py:44: DeprecationWarning: `imread` is deprecated!\n",
      "`imread` is deprecated in SciPy 1.0.0, and will be removed in 1.2.0.\n",
      "Use ``imageio.imread`` instead.\n"
     ]
    },
    {
     "name": "stdout",
     "output_type": "stream",
     "text": [
      "67/67 [==============================] - 165s 2s/step - loss: 1.6152 - categorical_accuracy: 0.2269 - val_loss: 1.4922 - val_categorical_accuracy: 0.2800\n",
      "\n",
      "Epoch 00001: saving model to model_init_2021-02-0513_13_54.434066/model-00001-1.61517-0.22687-1.49222-0.28000.h5\n",
      "Epoch 2/15\n",
      "67/67 [==============================] - 70s 1s/step - loss: 1.5190 - categorical_accuracy: 0.2881 - val_loss: 1.6989 - val_categorical_accuracy: 0.2900\n",
      "\n",
      "Epoch 00002: saving model to model_init_2021-02-0513_13_54.434066/model-00002-1.51904-0.28806-1.69894-0.29000.h5\n",
      "Epoch 3/15\n",
      "67/67 [==============================] - 70s 1s/step - loss: 1.5027 - categorical_accuracy: 0.3478 - val_loss: 1.4196 - val_categorical_accuracy: 0.3500\n",
      "\n",
      "Epoch 00003: saving model to model_init_2021-02-0513_13_54.434066/model-00003-1.50266-0.34776-1.41955-0.35000.h5\n",
      "Epoch 4/15\n",
      "67/67 [==============================] - 69s 1s/step - loss: 1.4130 - categorical_accuracy: 0.3806 - val_loss: 1.2343 - val_categorical_accuracy: 0.5400\n",
      "\n",
      "Epoch 00004: saving model to model_init_2021-02-0513_13_54.434066/model-00004-1.41298-0.38060-1.23432-0.54000.h5\n",
      "Epoch 5/15\n",
      "67/67 [==============================] - 71s 1s/step - loss: 1.2676 - categorical_accuracy: 0.4687 - val_loss: 1.2486 - val_categorical_accuracy: 0.4400\n",
      "\n",
      "Epoch 00005: saving model to model_init_2021-02-0513_13_54.434066/model-00005-1.26756-0.46866-1.24856-0.44000.h5\n",
      "Epoch 6/15\n",
      "67/67 [==============================] - 72s 1s/step - loss: 1.1916 - categorical_accuracy: 0.4866 - val_loss: 1.3336 - val_categorical_accuracy: 0.4400\n",
      "\n",
      "Epoch 00006: saving model to model_init_2021-02-0513_13_54.434066/model-00006-1.19164-0.48657-1.33360-0.44000.h5\n",
      "Epoch 7/15\n",
      "67/67 [==============================] - 91s 1s/step - loss: 1.1618 - categorical_accuracy: 0.5119 - val_loss: 1.1238 - val_categorical_accuracy: 0.5800\n",
      "\n",
      "Epoch 00007: saving model to model_init_2021-02-0513_13_54.434066/model-00007-1.16185-0.51194-1.12376-0.58000.h5\n",
      "Epoch 8/15\n",
      "67/67 [==============================] - 54s 806ms/step - loss: 1.0974 - categorical_accuracy: 0.4955 - val_loss: 0.9416 - val_categorical_accuracy: 0.6300\n",
      "\n",
      "Epoch 00008: saving model to model_init_2021-02-0513_13_54.434066/model-00008-1.09740-0.49552-0.94162-0.63000.h5\n",
      "Epoch 9/15\n",
      "67/67 [==============================] - 62s 920ms/step - loss: 1.0046 - categorical_accuracy: 0.5955 - val_loss: 2.4927 - val_categorical_accuracy: 0.4400\n",
      "\n",
      "Epoch 00009: saving model to model_init_2021-02-0513_13_54.434066/model-00009-1.00456-0.59552-2.49270-0.44000.h5\n",
      "Epoch 10/15\n",
      "67/67 [==============================] - 52s 783ms/step - loss: 1.0171 - categorical_accuracy: 0.5433 - val_loss: 1.1007 - val_categorical_accuracy: 0.5400\n",
      "\n",
      "Epoch 00010: saving model to model_init_2021-02-0513_13_54.434066/model-00010-1.01707-0.54328-1.10071-0.54000.h5\n",
      "Epoch 11/15\n",
      "67/67 [==============================] - 53s 794ms/step - loss: 0.9276 - categorical_accuracy: 0.6045 - val_loss: 0.9524 - val_categorical_accuracy: 0.6100\n",
      "\n",
      "Epoch 00011: saving model to model_init_2021-02-0513_13_54.434066/model-00011-0.92763-0.60448-0.95239-0.61000.h5\n",
      "Epoch 12/15\n",
      "67/67 [==============================] - 63s 942ms/step - loss: 0.8543 - categorical_accuracy: 0.6552 - val_loss: 1.0545 - val_categorical_accuracy: 0.6200\n",
      "\n",
      "Epoch 00012: saving model to model_init_2021-02-0513_13_54.434066/model-00012-0.85427-0.65522-1.05454-0.62000.h5\n",
      "Epoch 13/15\n",
      "67/67 [==============================] - 64s 957ms/step - loss: 0.8489 - categorical_accuracy: 0.6642 - val_loss: 0.8571 - val_categorical_accuracy: 0.6800\n",
      "\n",
      "Epoch 00013: saving model to model_init_2021-02-0513_13_54.434066/model-00013-0.84886-0.66418-0.85714-0.68000.h5\n",
      "Epoch 14/15\n",
      "67/67 [==============================] - 64s 948ms/step - loss: 0.8589 - categorical_accuracy: 0.6552 - val_loss: 0.8233 - val_categorical_accuracy: 0.7000\n",
      "\n",
      "Epoch 00014: saving model to model_init_2021-02-0513_13_54.434066/model-00014-0.85895-0.65522-0.82333-0.70000.h5\n",
      "Epoch 15/15\n",
      "67/67 [==============================] - 57s 856ms/step - loss: 0.7266 - categorical_accuracy: 0.6955 - val_loss: 1.1461 - val_categorical_accuracy: 0.5700\n",
      "\n",
      "Epoch 00015: saving model to model_init_2021-02-0513_13_54.434066/model-00015-0.72659-0.69552-1.14608-0.57000.h5\n"
     ]
    },
    {
     "data": {
      "text/plain": [
       "<keras.callbacks.History at 0x7fbb37b144e0>"
      ]
     },
     "execution_count": 12,
     "metadata": {},
     "output_type": "execute_result"
    }
   ],
   "source": [
    "model.fit_generator(train_generator, steps_per_epoch=steps_per_epoch, epochs=num_epochs, verbose=1, \n",
    "                    callbacks=callbacks_list, validation_data=val_generator, \n",
    "                    validation_steps=validation_steps, class_weight=None, workers=1, initial_epoch=0)"
   ]
  },
  {
   "cell_type": "markdown",
   "metadata": {},
   "source": [
    "    Now we will write a function to repeat the above process for subsequent models"
   ]
  },
  {
   "cell_type": "code",
   "execution_count": 13,
   "metadata": {},
   "outputs": [],
   "source": [
    "# Function to build model\n",
    "def buildmodel(model,epochsize,batchsize, optimiser, lr):\n",
    "    \n",
    "    # Set batch size and epoch\n",
    "    batch_size = batchsize #experiment with the batch size\n",
    "    num_epochs = epochsize # choose the number of epochs\n",
    "    \n",
    "    # Optimizer and compile\n",
    "    from keras.optimizers import Adam\n",
    "    if(optimiser==\"Adam\"):\n",
    "        optimiser = Adam(lr) #write your optimizer\n",
    "    elif(optimiser==\"sgd\"):\n",
    "        optimiser=\"sgd\"\n",
    "        \n",
    "    \n",
    "    # Now that you have written the model, the next step is to `compile` the model. \n",
    "    # When you print the `summary` of the model, you'll see the total number of parameters you have to train.\n",
    "    \n",
    "    model.compile(optimizer=optimiser, loss='categorical_crossentropy', metrics=['categorical_accuracy'])\n",
    "    print (model.summary())\n",
    "    \n",
    "    # Create Generators\n",
    "    # Let us create the `train_generator` and the `val_generator` which will be used in `.fit_generator`.\n",
    "    train_generator = generator(train_path, train_doc, batch_size)\n",
    "    val_generator = generator(val_path, val_doc, batch_size)\n",
    "    \n",
    "    # Save h5 files\n",
    "    model_name = 'model_init' + '_' + str(curr_dt_time).replace(' ','').replace(':','_') + '/'\n",
    "   \n",
    "    if not os.path.exists(model_name):\n",
    "        os.mkdir(model_name)\n",
    "        \n",
    "    filepath = model_name + 'model-{epoch:05d}-{loss:.5f}-{categorical_accuracy:.5f}-{val_loss:.5f}-{val_categorical_accuracy:.5f}.h5'\n",
    "    checkpoint = ModelCheckpoint(filepath, monitor='val_loss', verbose=1, save_best_only=False, save_weights_only=False, mode='auto', period=1)\n",
    "    # write the REducelronplateau code here\n",
    "#     LR = ReduceLROnPlateau(monitor='val_loss', factor=0.01, patience=5, cooldown=4, verbose=1,mode='auto',epsilon=0.0001) \n",
    "    LR = ReduceLROnPlateau(monitor='val_loss', factor=0.01, patience=5, cooldown=4, verbose=1,mode='auto',min_delta=0.0001) \n",
    "    \n",
    "    callbacks_list = [checkpoint, LR]\n",
    "    \n",
    "    # The `steps_per_epoch` and `validation_steps` are used by `fit_generator` to decide the number of next() \n",
    "    # calls it need to make.\n",
    "    # Epoch Calculation\n",
    "    if (num_train_sequences%batch_size) == 0:\n",
    "        steps_per_epoch = int(num_train_sequences/batch_size)\n",
    "    else:\n",
    "        steps_per_epoch = (num_train_sequences//batch_size) + 1\n",
    "\n",
    "    if (num_val_sequences%batch_size) == 0:\n",
    "        validation_steps = int(num_val_sequences/batch_size)\n",
    "    else:\n",
    "        validation_steps = (num_val_sequences//batch_size) + 1\n",
    "        \n",
    "    # Let us now fit the model. This will start training the model and with the help of the checkpoints, you'll be able to save \n",
    "    # the model at the end of each epoch.\n",
    "    # Build Model\n",
    "    model1 = model.fit_generator(train_generator, steps_per_epoch=steps_per_epoch, epochs=num_epochs, verbose=1, \n",
    "                    callbacks=callbacks_list, validation_data=val_generator, \n",
    "                    validation_steps=validation_steps, class_weight=None, workers=1, initial_epoch=0)\n",
    "    \n",
    "    import matplotlib.pyplot as plt \n",
    "    # visualise training history\n",
    "    plt.plot(model1.history['categorical_accuracy'])\n",
    "    plt.plot(model1.history['val_categorical_accuracy'])\n",
    "    plt.title('model accuracy')\n",
    "    plt.ylabel('accuracy')\n",
    "    plt.xlabel('epoch')\n",
    "    plt.legend(['train', 'test'], loc=\"lower right\")\n",
    "    plt.show()\n",
    "\n",
    "    # summarize history for loss\n",
    "    plt.plot(model1.history['loss'])\n",
    "    plt.plot(model1.history['val_loss'])\n",
    "    plt.title('model loss')\n",
    "    plt.ylabel('loss')\n",
    "    plt.xlabel('epoch')\n",
    "    plt.legend(['train', 'test'], loc='upper left')\n",
    "    plt.show()\n",
    "\n",
    "    return model1"
   ]
  },
  {
   "cell_type": "code",
   "execution_count": 16,
   "metadata": {},
   "outputs": [],
   "source": [
    "from keras import regularizers"
   ]
  },
  {
   "cell_type": "markdown",
   "metadata": {},
   "source": [
    "### Model2 - Conv3D layers + Dropout + BatchNormalization + L2 Regularization"
   ]
  },
  {
   "cell_type": "code",
   "execution_count": 17,
   "metadata": {},
   "outputs": [
    {
     "name": "stdout",
     "output_type": "stream",
     "text": [
      "_________________________________________________________________\n",
      "Layer (type)                 Output Shape              Param #   \n",
      "=================================================================\n",
      "conv3d_16 (Conv3D)           (None, 15, 120, 120, 8)   200       \n",
      "_________________________________________________________________\n",
      "batch_normalization_10 (Batc (None, 15, 120, 120, 8)   32        \n",
      "_________________________________________________________________\n",
      "activation_16 (Activation)   (None, 15, 120, 120, 8)   0         \n",
      "_________________________________________________________________\n",
      "dropout_15 (Dropout)         (None, 15, 120, 120, 8)   0         \n",
      "_________________________________________________________________\n",
      "average_pooling3d_10 (Averag (None, 7, 60, 60, 8)      0         \n",
      "_________________________________________________________________\n",
      "conv3d_17 (Conv3D)           (None, 7, 60, 60, 16)     1040      \n",
      "_________________________________________________________________\n",
      "batch_normalization_11 (Batc (None, 7, 60, 60, 16)     64        \n",
      "_________________________________________________________________\n",
      "activation_17 (Activation)   (None, 7, 60, 60, 16)     0         \n",
      "_________________________________________________________________\n",
      "dropout_16 (Dropout)         (None, 7, 60, 60, 16)     0         \n",
      "_________________________________________________________________\n",
      "average_pooling3d_11 (Averag (None, 3, 30, 30, 16)     0         \n",
      "_________________________________________________________________\n",
      "conv3d_18 (Conv3D)           (None, 3, 30, 30, 32)     4128      \n",
      "_________________________________________________________________\n",
      "batch_normalization_12 (Batc (None, 3, 30, 30, 32)     128       \n",
      "_________________________________________________________________\n",
      "activation_18 (Activation)   (None, 3, 30, 30, 32)     0         \n",
      "_________________________________________________________________\n",
      "dropout_17 (Dropout)         (None, 3, 30, 30, 32)     0         \n",
      "_________________________________________________________________\n",
      "average_pooling3d_12 (Averag (None, 1, 15, 15, 32)     0         \n",
      "_________________________________________________________________\n",
      "conv3d_19 (Conv3D)           (None, 1, 15, 15, 64)     16448     \n",
      "_________________________________________________________________\n",
      "activation_19 (Activation)   (None, 1, 15, 15, 64)     0         \n",
      "_________________________________________________________________\n",
      "dropout_18 (Dropout)         (None, 1, 15, 15, 64)     0         \n",
      "_________________________________________________________________\n",
      "conv3d_20 (Conv3D)           (None, 1, 15, 15, 64)     32832     \n",
      "_________________________________________________________________\n",
      "activation_20 (Activation)   (None, 1, 15, 15, 64)     0         \n",
      "_________________________________________________________________\n",
      "dropout_19 (Dropout)         (None, 1, 15, 15, 64)     0         \n",
      "_________________________________________________________________\n",
      "flatten_4 (Flatten)          (None, 14400)             0         \n",
      "_________________________________________________________________\n",
      "dense_4 (Dense)              (None, 32)                460832    \n",
      "_________________________________________________________________\n",
      "dropout_20 (Dropout)         (None, 32)                0         \n",
      "_________________________________________________________________\n",
      "dense_5 (Dense)              (None, 32)                1056      \n",
      "_________________________________________________________________\n",
      "dropout_21 (Dropout)         (None, 32)                0         \n",
      "_________________________________________________________________\n",
      "dense_6 (Dense)              (None, 5)                 165       \n",
      "=================================================================\n",
      "Total params: 516,925\n",
      "Trainable params: 516,813\n",
      "Non-trainable params: 112\n",
      "_________________________________________________________________\n",
      "None\n",
      "Source path =  val/ ; batch size = 10\n",
      "Source path =  train/ ; batch size = 10\n",
      "Epoch 1/10\n"
     ]
    },
    {
     "name": "stderr",
     "output_type": "stream",
     "text": [
      "/mnt/disks/user/anaconda3/lib/python3.6/site-packages/ipykernel_launcher.py:20: DeprecationWarning: `imread` is deprecated!\n",
      "`imread` is deprecated in SciPy 1.0.0, and will be removed in 1.2.0.\n",
      "Use ``imageio.imread`` instead.\n",
      "/mnt/disks/user/anaconda3/lib/python3.6/site-packages/skimage/transform/_warps.py:110: UserWarning: Anti-aliasing will be enabled by default in skimage 0.15 to avoid aliasing artifacts when down-sampling images.\n",
      "  warn(\"Anti-aliasing will be enabled by default in skimage 0.15 to \"\n"
     ]
    },
    {
     "name": "stdout",
     "output_type": "stream",
     "text": [
      "66/67 [============================>.] - ETA: 0s - loss: 2.1854 - categorical_accuracy: 0.2348"
     ]
    },
    {
     "name": "stderr",
     "output_type": "stream",
     "text": [
      "/mnt/disks/user/anaconda3/lib/python3.6/site-packages/ipykernel_launcher.py:44: DeprecationWarning: `imread` is deprecated!\n",
      "`imread` is deprecated in SciPy 1.0.0, and will be removed in 1.2.0.\n",
      "Use ``imageio.imread`` instead.\n"
     ]
    },
    {
     "name": "stdout",
     "output_type": "stream",
     "text": [
      "67/67 [==============================] - 62s 926ms/step - loss: 2.1895 - categorical_accuracy: 0.2358 - val_loss: 1.8899 - val_categorical_accuracy: 0.3300\n",
      "\n",
      "Epoch 00001: saving model to model_init_2021-02-0513_41_21.659316/model-00001-2.18955-0.23582-1.88987-0.33000.h5\n",
      "Epoch 2/10\n",
      "67/67 [==============================] - 58s 862ms/step - loss: 1.7760 - categorical_accuracy: 0.3090 - val_loss: 2.4125 - val_categorical_accuracy: 0.2300\n",
      "\n",
      "Epoch 00002: saving model to model_init_2021-02-0513_41_21.659316/model-00002-1.77599-0.30896-2.41254-0.23000.h5\n",
      "Epoch 3/10\n",
      "67/67 [==============================] - 65s 965ms/step - loss: 1.6122 - categorical_accuracy: 0.3866 - val_loss: 2.4565 - val_categorical_accuracy: 0.1800\n",
      "\n",
      "Epoch 00003: saving model to model_init_2021-02-0513_41_21.659316/model-00003-1.61221-0.38657-2.45645-0.18000.h5\n",
      "Epoch 4/10\n",
      "67/67 [==============================] - 57s 856ms/step - loss: 1.4943 - categorical_accuracy: 0.4269 - val_loss: 1.6179 - val_categorical_accuracy: 0.3100\n",
      "\n",
      "Epoch 00004: saving model to model_init_2021-02-0513_41_21.659316/model-00004-1.49434-0.42687-1.61789-0.31000.h5\n",
      "Epoch 5/10\n",
      "67/67 [==============================] - 67s 1s/step - loss: 1.4230 - categorical_accuracy: 0.4478 - val_loss: 1.3905 - val_categorical_accuracy: 0.4900\n",
      "\n",
      "Epoch 00005: saving model to model_init_2021-02-0513_41_21.659316/model-00005-1.42304-0.44776-1.39051-0.49000.h5\n",
      "Epoch 6/10\n",
      "67/67 [==============================] - 64s 948ms/step - loss: 1.4174 - categorical_accuracy: 0.5104 - val_loss: 1.2807 - val_categorical_accuracy: 0.5200\n",
      "\n",
      "Epoch 00006: saving model to model_init_2021-02-0513_41_21.659316/model-00006-1.41741-0.51045-1.28074-0.52000.h5\n",
      "Epoch 7/10\n",
      "67/67 [==============================] - 61s 910ms/step - loss: 1.3301 - categorical_accuracy: 0.5239 - val_loss: 1.5096 - val_categorical_accuracy: 0.4700\n",
      "\n",
      "Epoch 00007: saving model to model_init_2021-02-0513_41_21.659316/model-00007-1.33011-0.52388-1.50960-0.47000.h5\n",
      "Epoch 8/10\n",
      "67/67 [==============================] - 56s 836ms/step - loss: 1.3469 - categorical_accuracy: 0.5104 - val_loss: 1.7206 - val_categorical_accuracy: 0.4500\n",
      "\n",
      "Epoch 00008: saving model to model_init_2021-02-0513_41_21.659316/model-00008-1.34689-0.51045-1.72063-0.45000.h5\n",
      "Epoch 9/10\n",
      "67/67 [==============================] - 59s 878ms/step - loss: 1.2263 - categorical_accuracy: 0.5896 - val_loss: 1.1243 - val_categorical_accuracy: 0.6600\n",
      "\n",
      "Epoch 00009: saving model to model_init_2021-02-0513_41_21.659316/model-00009-1.22631-0.58955-1.12427-0.66000.h5\n",
      "Epoch 10/10\n",
      "67/67 [==============================] - 61s 915ms/step - loss: 1.1723 - categorical_accuracy: 0.6418 - val_loss: 1.7169 - val_categorical_accuracy: 0.4000\n",
      "\n",
      "Epoch 00010: saving model to model_init_2021-02-0513_41_21.659316/model-00010-1.17229-0.64179-1.71694-0.40000.h5\n"
     ]
    },
    {
     "data": {
      "text/plain": [
       "<Figure size 640x480 with 1 Axes>"
      ]
     },
     "metadata": {},
     "output_type": "display_data"
    },
    {
     "data": {
      "text/plain": [
       "<Figure size 640x480 with 1 Axes>"
      ]
     },
     "metadata": {},
     "output_type": "display_data"
    }
   ],
   "source": [
    "# model2\n",
    "\n",
    "curr_dt_time = datetime.datetime.now()\n",
    "\n",
    "batch_size = 10 #experiment with the batch size\n",
    "num_epochs = 10 # choose the number of epochs\n",
    "\n",
    "nb_filters = [8,16,32,64]\n",
    "nb_dense = [32, 32, 5]\n",
    "\n",
    "kernel = (2,2,2)\n",
    "# Input\n",
    "input_shape=(frames,120,120,3)\n",
    "\n",
    "# Define model\n",
    "model = Sequential()\n",
    "\n",
    "model.add(Conv3D(nb_filters[0], kernel_size=kernel, input_shape=input_shape,padding='same'))\n",
    "model.add(BatchNormalization())\n",
    "model.add(Activation('relu'))\n",
    "model.add(Dropout(0.25))\n",
    "\n",
    "model.add(AveragePooling3D(pool_size=(2,2,2)))\n",
    "\n",
    "model.add(Conv3D(nb_filters[1], kernel_size=kernel,padding='same'))\n",
    "model.add(BatchNormalization())\n",
    "model.add(Activation('relu'))\n",
    "model.add(Dropout(0.25))\n",
    "\n",
    "model.add(AveragePooling3D(pool_size=(2,2,2)))\n",
    "\n",
    "model.add(Conv3D(nb_filters[2], kernel_size=kernel,padding='same'))\n",
    "model.add(BatchNormalization())\n",
    "model.add(Activation('relu'))\n",
    "model.add(Dropout(0.25))\n",
    "\n",
    "model.add(AveragePooling3D(pool_size=(2,2,2)))\n",
    "\n",
    "model.add(Conv3D(nb_filters[3], kernel_size=kernel,padding='same'))\n",
    "model.add(Activation('relu'))\n",
    "model.add(Dropout(0.25))\n",
    "\n",
    "model.add(Conv3D(nb_filters[3], kernel_size=kernel,padding='same'))\n",
    "model.add(Activation('relu'))\n",
    "model.add(Dropout(0.25))\n",
    "\n",
    "# model.add(MaxPooling3D(pool_size=(2,2,2)))\n",
    "\n",
    "#Flatten Layers\n",
    "model.add(Flatten())\n",
    "\n",
    "model.add(Dense(nb_dense[0], activation='relu',kernel_regularizer=regularizers.l2(0.01)))\n",
    "model.add(Dropout(0.25))\n",
    "          \n",
    "model.add(Dense(nb_dense[0], activation='relu',kernel_regularizer=regularizers.l2(0.01)))\n",
    "model.add(Dropout(0.25))\n",
    "\n",
    "\n",
    "#softmax layer\n",
    "model.add(Dense(nb_dense[2], activation='softmax'))\n",
    "\n",
    "## Build model\n",
    "# Definition buildmodel(model,epochsize,batchsize, optimiser, lr)\n",
    "model2 = buildmodel(model,num_epochs,batch_size,\"Adam\",0.001)"
   ]
  },
  {
   "cell_type": "markdown",
   "metadata": {},
   "source": [
    "#### Model3 - Conv3D layers + More Layers + Dropout  + L2 Regularization"
   ]
  },
  {
   "cell_type": "code",
   "execution_count": 18,
   "metadata": {},
   "outputs": [
    {
     "name": "stdout",
     "output_type": "stream",
     "text": [
      "_________________________________________________________________\n",
      "Layer (type)                 Output Shape              Param #   \n",
      "=================================================================\n",
      "conv3d_21 (Conv3D)           (None, 15, 120, 120, 8)   200       \n",
      "_________________________________________________________________\n",
      "batch_normalization_13 (Batc (None, 15, 120, 120, 8)   32        \n",
      "_________________________________________________________________\n",
      "activation_21 (Activation)   (None, 15, 120, 120, 8)   0         \n",
      "_________________________________________________________________\n",
      "conv3d_22 (Conv3D)           (None, 15, 120, 120, 8)   520       \n",
      "_________________________________________________________________\n",
      "batch_normalization_14 (Batc (None, 15, 120, 120, 8)   32        \n",
      "_________________________________________________________________\n",
      "activation_22 (Activation)   (None, 15, 120, 120, 8)   0         \n",
      "_________________________________________________________________\n",
      "dropout_22 (Dropout)         (None, 15, 120, 120, 8)   0         \n",
      "_________________________________________________________________\n",
      "average_pooling3d_13 (Averag (None, 7, 60, 60, 8)      0         \n",
      "_________________________________________________________________\n",
      "conv3d_23 (Conv3D)           (None, 7, 60, 60, 16)     1040      \n",
      "_________________________________________________________________\n",
      "batch_normalization_15 (Batc (None, 7, 60, 60, 16)     64        \n",
      "_________________________________________________________________\n",
      "activation_23 (Activation)   (None, 7, 60, 60, 16)     0         \n",
      "_________________________________________________________________\n",
      "conv3d_24 (Conv3D)           (None, 7, 60, 60, 16)     2064      \n",
      "_________________________________________________________________\n",
      "batch_normalization_16 (Batc (None, 7, 60, 60, 16)     64        \n",
      "_________________________________________________________________\n",
      "activation_24 (Activation)   (None, 7, 60, 60, 16)     0         \n",
      "_________________________________________________________________\n",
      "dropout_23 (Dropout)         (None, 7, 60, 60, 16)     0         \n",
      "_________________________________________________________________\n",
      "average_pooling3d_14 (Averag (None, 3, 30, 30, 16)     0         \n",
      "_________________________________________________________________\n",
      "conv3d_25 (Conv3D)           (None, 3, 30, 30, 32)     4128      \n",
      "_________________________________________________________________\n",
      "batch_normalization_17 (Batc (None, 3, 30, 30, 32)     128       \n",
      "_________________________________________________________________\n",
      "activation_25 (Activation)   (None, 3, 30, 30, 32)     0         \n",
      "_________________________________________________________________\n",
      "conv3d_26 (Conv3D)           (None, 3, 30, 30, 32)     8224      \n",
      "_________________________________________________________________\n",
      "batch_normalization_18 (Batc (None, 3, 30, 30, 32)     128       \n",
      "_________________________________________________________________\n",
      "activation_26 (Activation)   (None, 3, 30, 30, 32)     0         \n",
      "_________________________________________________________________\n",
      "dropout_24 (Dropout)         (None, 3, 30, 30, 32)     0         \n",
      "_________________________________________________________________\n",
      "average_pooling3d_15 (Averag (None, 1, 15, 15, 32)     0         \n",
      "_________________________________________________________________\n",
      "conv3d_27 (Conv3D)           (None, 1, 15, 15, 64)     16448     \n",
      "_________________________________________________________________\n",
      "batch_normalization_19 (Batc (None, 1, 15, 15, 64)     256       \n",
      "_________________________________________________________________\n",
      "activation_27 (Activation)   (None, 1, 15, 15, 64)     0         \n",
      "_________________________________________________________________\n",
      "conv3d_28 (Conv3D)           (None, 1, 15, 15, 64)     32832     \n",
      "_________________________________________________________________\n",
      "batch_normalization_20 (Batc (None, 1, 15, 15, 64)     256       \n",
      "_________________________________________________________________\n",
      "activation_28 (Activation)   (None, 1, 15, 15, 64)     0         \n",
      "_________________________________________________________________\n",
      "dropout_25 (Dropout)         (None, 1, 15, 15, 64)     0         \n",
      "_________________________________________________________________\n",
      "flatten_5 (Flatten)          (None, 14400)             0         \n",
      "_________________________________________________________________\n",
      "dense_7 (Dense)              (None, 32)                460832    \n",
      "_________________________________________________________________\n",
      "dropout_26 (Dropout)         (None, 32)                0         \n",
      "_________________________________________________________________\n",
      "dense_8 (Dense)              (None, 32)                1056      \n",
      "_________________________________________________________________\n",
      "dropout_27 (Dropout)         (None, 32)                0         \n",
      "_________________________________________________________________\n",
      "dense_9 (Dense)              (None, 5)                 165       \n",
      "=================================================================\n",
      "Total params: 528,469\n",
      "Trainable params: 527,989\n",
      "Non-trainable params: 480\n",
      "_________________________________________________________________\n",
      "None\n",
      "Source path =  val/ ; batch size = 10\n",
      "Source path =  train/ Epoch 1/10\n",
      "; batch size = 10\n"
     ]
    },
    {
     "name": "stderr",
     "output_type": "stream",
     "text": [
      "/mnt/disks/user/anaconda3/lib/python3.6/site-packages/ipykernel_launcher.py:20: DeprecationWarning: `imread` is deprecated!\n",
      "`imread` is deprecated in SciPy 1.0.0, and will be removed in 1.2.0.\n",
      "Use ``imageio.imread`` instead.\n",
      "/mnt/disks/user/anaconda3/lib/python3.6/site-packages/skimage/transform/_warps.py:110: UserWarning: Anti-aliasing will be enabled by default in skimage 0.15 to avoid aliasing artifacts when down-sampling images.\n",
      "  warn(\"Anti-aliasing will be enabled by default in skimage 0.15 to \"\n"
     ]
    },
    {
     "name": "stdout",
     "output_type": "stream",
     "text": [
      "65/67 [============================>.] - ETA: 1s - loss: 2.4654 - categorical_accuracy: 0.1692"
     ]
    },
    {
     "name": "stderr",
     "output_type": "stream",
     "text": [
      "/mnt/disks/user/anaconda3/lib/python3.6/site-packages/ipykernel_launcher.py:44: DeprecationWarning: `imread` is deprecated!\n",
      "`imread` is deprecated in SciPy 1.0.0, and will be removed in 1.2.0.\n",
      "Use ``imageio.imread`` instead.\n"
     ]
    },
    {
     "name": "stdout",
     "output_type": "stream",
     "text": [
      "67/67 [==============================] - 61s 906ms/step - loss: 2.4649 - categorical_accuracy: 0.1642 - val_loss: 2.2000 - val_categorical_accuracy: 0.2300\n",
      "\n",
      "Epoch 00001: saving model to model_init_2021-02-0513_52_10.270855/model-00001-2.46485-0.16418-2.19997-0.23000.h5\n",
      "Epoch 2/10\n",
      "67/67 [==============================] - 54s 806ms/step - loss: 2.1023 - categorical_accuracy: 0.1985 - val_loss: 2.0035 - val_categorical_accuracy: 0.2300\n",
      "\n",
      "Epoch 00002: saving model to model_init_2021-02-0513_52_10.270855/model-00002-2.10231-0.19851-2.00354-0.23000.h5\n",
      "Epoch 3/10\n",
      "67/67 [==============================] - 58s 866ms/step - loss: 1.9462 - categorical_accuracy: 0.1746 - val_loss: 1.8815 - val_categorical_accuracy: 0.2100\n",
      "\n",
      "Epoch 00003: saving model to model_init_2021-02-0513_52_10.270855/model-00003-1.94622-0.17463-1.88148-0.21000.h5\n",
      "Epoch 4/10\n",
      "67/67 [==============================] - 60s 903ms/step - loss: 1.8449 - categorical_accuracy: 0.2030 - val_loss: 1.8028 - val_categorical_accuracy: 0.2300\n",
      "\n",
      "Epoch 00004: saving model to model_init_2021-02-0513_52_10.270855/model-00004-1.84488-0.20299-1.80277-0.23000.h5\n",
      "Epoch 5/10\n",
      "67/67 [==============================] - 60s 890ms/step - loss: 1.7828 - categorical_accuracy: 0.1806 - val_loss: 1.7504 - val_categorical_accuracy: 0.2300\n",
      "\n",
      "Epoch 00005: saving model to model_init_2021-02-0513_52_10.270855/model-00005-1.78276-0.18060-1.75042-0.23000.h5\n",
      "Epoch 6/10\n",
      "67/67 [==============================] - 60s 900ms/step - loss: 1.7391 - categorical_accuracy: 0.2060 - val_loss: 1.7148 - val_categorical_accuracy: 0.2100\n",
      "\n",
      "Epoch 00006: saving model to model_init_2021-02-0513_52_10.270855/model-00006-1.73905-0.20597-1.71483-0.21000.h5\n",
      "Epoch 7/10\n",
      "67/67 [==============================] - 59s 876ms/step - loss: 1.7071 - categorical_accuracy: 0.1925 - val_loss: 1.6898 - val_categorical_accuracy: 0.2300\n",
      "\n",
      "Epoch 00007: saving model to model_init_2021-02-0513_52_10.270855/model-00007-1.70713-0.19254-1.68980-0.23000.h5\n",
      "Epoch 8/10\n",
      "67/67 [==============================] - 57s 846ms/step - loss: 1.6882 - categorical_accuracy: 0.1896 - val_loss: 1.6720 - val_categorical_accuracy: 0.2100\n",
      "\n",
      "Epoch 00008: saving model to model_init_2021-02-0513_52_10.270855/model-00008-1.68822-0.18955-1.67199-0.21000.h5\n",
      "Epoch 9/10\n",
      "67/67 [==============================] - 57s 850ms/step - loss: 1.6726 - categorical_accuracy: 0.2060 - val_loss: 1.6586 - val_categorical_accuracy: 0.2300\n",
      "\n",
      "Epoch 00009: saving model to model_init_2021-02-0513_52_10.270855/model-00009-1.67256-0.20597-1.65862-0.23000.h5\n",
      "Epoch 10/10\n",
      "67/67 [==============================] - 56s 843ms/step - loss: 1.6566 - categorical_accuracy: 0.1910 - val_loss: 1.6488 - val_categorical_accuracy: 0.2300\n",
      "\n",
      "Epoch 00010: saving model to model_init_2021-02-0513_52_10.270855/model-00010-1.65658-0.19104-1.64881-0.23000.h5\n"
     ]
    },
    {
     "data": {
      "image/png": "[encoded data removed]",
      "text/plain": [
       "<Figure size 432x288 with 1 Axes>"
      ]
     },
     "metadata": {},
     "output_type": "display_data"
    },
    {
     "data": {
      "image/png": "[encoded data removed]",
      "text/plain": [
       "<Figure size 432x288 with 1 Axes>"
      ]
     },
     "metadata": {},
     "output_type": "display_data"
    }
   ],
   "source": [
    "\n",
    "curr_dt_time = datetime.datetime.now()\n",
    "\n",
    "batch_size = 10 #experiment with the batch size\n",
    "num_epochs = 10 # choose the number of epochs\n",
    "\n",
    "nb_filters = [8,16,32,64]\n",
    "nb_dense = [32, 32, 5]\n",
    "\n",
    "kernel = (2,2,2)\n",
    "# Input\n",
    "input_shape=(frames,120,120,3)\n",
    "\n",
    "# Define model\n",
    "model = Sequential()\n",
    "\n",
    "model.add(Conv3D(nb_filters[0], kernel_size=kernel, input_shape=input_shape,padding='same'))\n",
    "model.add(BatchNormalization())\n",
    "model.add(Activation('relu'))\n",
    "model.add(Conv3D(nb_filters[0], kernel_size=kernel, input_shape=input_shape,padding='same'))\n",
    "model.add(BatchNormalization())\n",
    "model.add(Activation('relu'))\n",
    "model.add(Dropout(0.25))\n",
    "\n",
    "model.add(AveragePooling3D(pool_size=(2,2,2)))\n",
    "\n",
    "model.add(Conv3D(nb_filters[1], kernel_size=kernel,padding='same'))\n",
    "model.add(BatchNormalization())\n",
    "model.add(Activation('relu'))\n",
    "model.add(Conv3D(nb_filters[1], kernel_size=kernel,padding='same'))\n",
    "model.add(BatchNormalization())\n",
    "model.add(Activation('relu'))\n",
    "model.add(Dropout(0.25))\n",
    "\n",
    "model.add(AveragePooling3D(pool_size=(2,2,2)))\n",
    "\n",
    "model.add(Conv3D(nb_filters[2], kernel_size=kernel,padding='same'))\n",
    "model.add(BatchNormalization())\n",
    "model.add(Activation('relu'))\n",
    "model.add(Conv3D(nb_filters[2], kernel_size=kernel,padding='same'))\n",
    "model.add(BatchNormalization())\n",
    "model.add(Activation('relu'))\n",
    "model.add(Dropout(0.25))\n",
    "\n",
    "model.add(AveragePooling3D(pool_size=(2,2,2)))\n",
    "\n",
    "model.add(Conv3D(nb_filters[3], kernel_size=kernel,padding='same'))\n",
    "model.add(BatchNormalization())\n",
    "model.add(Activation('relu'))\n",
    "model.add(Conv3D(nb_filters[3], kernel_size=kernel,padding='same'))\n",
    "model.add(BatchNormalization())\n",
    "model.add(Activation('relu'))\n",
    "model.add(Dropout(0.25))\n",
    "\n",
    "\n",
    "# model.add(MaxPooling3D(pool_size=(2,2,2)))\n",
    "\n",
    "#Flatten Layers\n",
    "model.add(Flatten())\n",
    "\n",
    "model.add(Dense(nb_dense[0], activation='relu',kernel_regularizer=regularizers.l2(0.01)))\n",
    "model.add(Dropout(0.25))\n",
    "          \n",
    "model.add(Dense(nb_dense[0], activation='relu',kernel_regularizer=regularizers.l2(0.01)))\n",
    "model.add(Dropout(0.25))\n",
    "\n",
    "\n",
    "#softmax layer\n",
    "model.add(Dense(nb_dense[2], activation='softmax'))\n",
    "\n",
    "## Build model\n",
    "# Definition buildmodel(model,epochsize,batchsize, optimiser, lr)\n",
    "model3 = buildmodel(model,num_epochs,batch_size,\"Adam\",0.001)"
   ]
  },
  {
   "cell_type": "markdown",
   "metadata": {},
   "source": [
    "### Model4 - Conv3D layers + More Layers + Dropout  + L2 Regularization"
   ]
  },
  {
   "cell_type": "code",
   "execution_count": 20,
   "metadata": {},
   "outputs": [
    {
     "name": "stdout",
     "output_type": "stream",
     "text": [
      "_________________________________________________________________\n",
      "Layer (type)                 Output Shape              Param #   \n",
      "=================================================================\n",
      "conv3d_33 (Conv3D)           (None, 15, 120, 120, 8)   200       \n",
      "_________________________________________________________________\n",
      "batch_normalization_25 (Batc (None, 15, 120, 120, 8)   32        \n",
      "_________________________________________________________________\n",
      "activation_33 (Activation)   (None, 15, 120, 120, 8)   0         \n",
      "_________________________________________________________________\n",
      "dropout_32 (Dropout)         (None, 15, 120, 120, 8)   0         \n",
      "_________________________________________________________________\n",
      "average_pooling3d_19 (Averag (None, 7, 60, 60, 8)      0         \n",
      "_________________________________________________________________\n",
      "conv3d_34 (Conv3D)           (None, 7, 60, 60, 16)     1040      \n",
      "_________________________________________________________________\n",
      "batch_normalization_26 (Batc (None, 7, 60, 60, 16)     64        \n",
      "_________________________________________________________________\n",
      "activation_34 (Activation)   (None, 7, 60, 60, 16)     0         \n",
      "_________________________________________________________________\n",
      "dropout_33 (Dropout)         (None, 7, 60, 60, 16)     0         \n",
      "_________________________________________________________________\n",
      "average_pooling3d_20 (Averag (None, 3, 30, 30, 16)     0         \n",
      "_________________________________________________________________\n",
      "conv3d_35 (Conv3D)           (None, 3, 30, 30, 32)     4128      \n",
      "_________________________________________________________________\n",
      "batch_normalization_27 (Batc (None, 3, 30, 30, 32)     128       \n",
      "_________________________________________________________________\n",
      "activation_35 (Activation)   (None, 3, 30, 30, 32)     0         \n",
      "_________________________________________________________________\n",
      "dropout_34 (Dropout)         (None, 3, 30, 30, 32)     0         \n",
      "_________________________________________________________________\n",
      "average_pooling3d_21 (Averag (None, 1, 15, 15, 32)     0         \n",
      "_________________________________________________________________\n",
      "conv3d_36 (Conv3D)           (None, 1, 15, 15, 64)     16448     \n",
      "_________________________________________________________________\n",
      "batch_normalization_28 (Batc (None, 1, 15, 15, 64)     256       \n",
      "_________________________________________________________________\n",
      "activation_36 (Activation)   (None, 1, 15, 15, 64)     0         \n",
      "_________________________________________________________________\n",
      "dropout_35 (Dropout)         (None, 1, 15, 15, 64)     0         \n",
      "_________________________________________________________________\n",
      "flatten_7 (Flatten)          (None, 14400)             0         \n",
      "_________________________________________________________________\n",
      "dense_10 (Dense)             (None, 32)                460832    \n",
      "_________________________________________________________________\n",
      "dropout_36 (Dropout)         (None, 32)                0         \n",
      "_________________________________________________________________\n",
      "dense_11 (Dense)             (None, 32)                1056      \n",
      "_________________________________________________________________\n",
      "dropout_37 (Dropout)         (None, 32)                0         \n",
      "_________________________________________________________________\n",
      "dense_12 (Dense)             (None, 32)                1056      \n",
      "_________________________________________________________________\n",
      "dropout_38 (Dropout)         (None, 32)                0         \n",
      "_________________________________________________________________\n",
      "dense_13 (Dense)             (None, 32)                1056      \n",
      "_________________________________________________________________\n",
      "dropout_39 (Dropout)         (None, 32)                0         \n",
      "_________________________________________________________________\n",
      "dense_14 (Dense)             (None, 5)                 165       \n",
      "=================================================================\n",
      "Total params: 486,461\n",
      "Trainable params: 486,221\n",
      "Non-trainable params: 240\n",
      "_________________________________________________________________\n",
      "None\n",
      "Source path =  val/ ; batch size = 10\n",
      "Source path =  train/ ; batch size = 10\n",
      "Epoch 1/10\n"
     ]
    },
    {
     "name": "stderr",
     "output_type": "stream",
     "text": [
      "/mnt/disks/user/anaconda3/lib/python3.6/site-packages/ipykernel_launcher.py:20: DeprecationWarning: `imread` is deprecated!\n",
      "`imread` is deprecated in SciPy 1.0.0, and will be removed in 1.2.0.\n",
      "Use ``imageio.imread`` instead.\n",
      "/mnt/disks/user/anaconda3/lib/python3.6/site-packages/skimage/transform/_warps.py:110: UserWarning: Anti-aliasing will be enabled by default in skimage 0.15 to avoid aliasing artifacts when down-sampling images.\n",
      "  warn(\"Anti-aliasing will be enabled by default in skimage 0.15 to \"\n"
     ]
    },
    {
     "name": "stdout",
     "output_type": "stream",
     "text": [
      "66/67 [============================>.] - ETA: 0s - loss: 3.1584 - categorical_accuracy: 0.2076"
     ]
    },
    {
     "name": "stderr",
     "output_type": "stream",
     "text": [
      "/mnt/disks/user/anaconda3/lib/python3.6/site-packages/ipykernel_launcher.py:44: DeprecationWarning: `imread` is deprecated!\n",
      "`imread` is deprecated in SciPy 1.0.0, and will be removed in 1.2.0.\n",
      "Use ``imageio.imread`` instead.\n"
     ]
    },
    {
     "name": "stdout",
     "output_type": "stream",
     "text": [
      "67/67 [==============================] - 62s 929ms/step - loss: 3.1582 - categorical_accuracy: 0.2075 - val_loss: 2.8120 - val_categorical_accuracy: 0.2300\n",
      "\n",
      "Epoch 00001: saving model to model_init_2021-02-0514_02_53.206674/model-00001-3.15822-0.20746-2.81204-0.23000.h5\n",
      "Epoch 2/10\n",
      "67/67 [==============================] - 57s 853ms/step - loss: 2.6655 - categorical_accuracy: 0.2045 - val_loss: 2.5165 - val_categorical_accuracy: 0.2300\n",
      "\n",
      "Epoch 00002: saving model to model_init_2021-02-0514_02_53.206674/model-00002-2.66547-0.20448-2.51653-0.23000.h5\n",
      "Epoch 3/10\n",
      "67/67 [==============================] - 65s 975ms/step - loss: 2.4167 - categorical_accuracy: 0.2030 - val_loss: 2.3155 - val_categorical_accuracy: 0.2300\n",
      "\n",
      "Epoch 00003: saving model to model_init_2021-02-0514_02_53.206674/model-00003-2.41674-0.20299-2.31547-0.23000.h5\n",
      "Epoch 4/10\n",
      "67/67 [==============================] - 55s 823ms/step - loss: 2.2441 - categorical_accuracy: 0.1866 - val_loss: 2.1620 - val_categorical_accuracy: 0.1800\n",
      "\n",
      "Epoch 00004: saving model to model_init_2021-02-0514_02_53.206674/model-00004-2.24409-0.18657-2.16204-0.18000.h5\n",
      "Epoch 5/10\n",
      "67/67 [==============================] - 61s 904ms/step - loss: 2.1094 - categorical_accuracy: 0.2015 - val_loss: 2.0467 - val_categorical_accuracy: 0.1800\n",
      "\n",
      "Epoch 00005: saving model to model_init_2021-02-0514_02_53.206674/model-00005-2.10935-0.20149-2.04666-0.18000.h5\n",
      "Epoch 6/10\n",
      "67/67 [==============================] - 59s 874ms/step - loss: 2.0110 - categorical_accuracy: 0.1761 - val_loss: 1.9626 - val_categorical_accuracy: 0.1800\n",
      "\n",
      "Epoch 00006: saving model to model_init_2021-02-0514_02_53.206674/model-00006-2.01097-0.17612-1.96261-0.18000.h5\n",
      "Epoch 7/10\n",
      "67/67 [==============================] - 56s 831ms/step - loss: 1.9383 - categorical_accuracy: 0.1970 - val_loss: 1.8994 - val_categorical_accuracy: 0.1800\n",
      "\n",
      "Epoch 00007: saving model to model_init_2021-02-0514_02_53.206674/model-00007-1.93835-0.19701-1.89945-0.18000.h5\n",
      "Epoch 8/10\n",
      "67/67 [==============================] - 58s 864ms/step - loss: 1.8804 - categorical_accuracy: 0.1940 - val_loss: 1.8510 - val_categorical_accuracy: 0.1600\n",
      "\n",
      "Epoch 00008: saving model to model_init_2021-02-0514_02_53.206674/model-00008-1.88036-0.19403-1.85098-0.16000.h5\n",
      "Epoch 9/10\n",
      "67/67 [==============================] - 61s 915ms/step - loss: 1.8470 - categorical_accuracy: 0.1866 - val_loss: 1.8182 - val_categorical_accuracy: 0.2100\n",
      "\n",
      "Epoch 00009: saving model to model_init_2021-02-0514_02_53.206674/model-00009-1.84697-0.18657-1.81817-0.21000.h5\n",
      "Epoch 10/10\n",
      "67/67 [==============================] - 57s 844ms/step - loss: 1.8080 - categorical_accuracy: 0.1970 - val_loss: 1.7818 - val_categorical_accuracy: 0.2100\n",
      "\n",
      "Epoch 00010: saving model to model_init_2021-02-0514_02_53.206674/model-00010-1.80799-0.19701-1.78179-0.21000.h5\n"
     ]
    },
    {
     "data": {
      "image/png": "[encoded data removed]",
      "text/plain": [
       "<Figure size 432x288 with 1 Axes>"
      ]
     },
     "metadata": {},
     "output_type": "display_data"
    },
    {
     "data": {
      "image/png": "[encoded data removed]",
      "text/plain": [
       "<Figure size 432x288 with 1 Axes>"
      ]
     },
     "metadata": {},
     "output_type": "display_data"
    }
   ],
   "source": [
    "\n",
    "curr_dt_time = datetime.datetime.now()\n",
    "\n",
    "batch_size = 10 #experiment with the batch size\n",
    "num_epochs = 10 # choose the number of epochs\n",
    "\n",
    "nb_filters = [8,16,32,64]\n",
    "nb_dense = [32, 32, 5]\n",
    "\n",
    "kernel = (2,2,2)\n",
    "# Input\n",
    "input_shape=(frames,120,120,3)\n",
    "\n",
    "# Define model\n",
    "model = Sequential()\n",
    "\n",
    "model.add(Conv3D(nb_filters[0], kernel_size=kernel, input_shape=input_shape,padding='same'))\n",
    "model.add(BatchNormalization())\n",
    "model.add(Activation('relu'))\n",
    "model.add(Dropout(0.25))\n",
    "\n",
    "model.add(AveragePooling3D(pool_size=(2,2,2)))\n",
    "\n",
    "model.add(Conv3D(nb_filters[1], kernel_size=kernel,padding='same'))\n",
    "model.add(BatchNormalization())\n",
    "model.add(Activation('relu'))\n",
    "model.add(Dropout(0.25))\n",
    "\n",
    "model.add(AveragePooling3D(pool_size=(2,2,2)))\n",
    "\n",
    "model.add(Conv3D(nb_filters[2], kernel_size=kernel,padding='same'))\n",
    "model.add(BatchNormalization())\n",
    "model.add(Activation('relu'))\n",
    "model.add(Dropout(0.25))\n",
    "\n",
    "model.add(AveragePooling3D(pool_size=(2,2,2)))\n",
    "\n",
    "model.add(Conv3D(nb_filters[3], kernel_size=kernel,padding='same'))\n",
    "model.add(BatchNormalization())\n",
    "model.add(Activation('relu'))\n",
    "model.add(Dropout(0.25))\n",
    "\n",
    "\n",
    "# model.add(MaxPooling3D(pool_size=(2,2,2)))\n",
    "\n",
    "#Flatten Layers\n",
    "model.add(Flatten())\n",
    "\n",
    "model.add(Dense(nb_dense[0], activation='relu',kernel_regularizer=regularizers.l2(0.01)))\n",
    "model.add(Dropout(0.25))\n",
    "          \n",
    "model.add(Dense(nb_dense[0], activation='relu',kernel_regularizer=regularizers.l2(0.01)))\n",
    "model.add(Dropout(0.25))\n",
    "\n",
    "model.add(Dense(nb_dense[0], activation='relu',kernel_regularizer=regularizers.l2(0.01)))\n",
    "model.add(Dropout(0.25))\n",
    "\n",
    "model.add(Dense(nb_dense[0], activation='relu',kernel_regularizer=regularizers.l2(0.01)))\n",
    "model.add(Dropout(0.25))\n",
    "\n",
    "\n",
    "#softmax layer\n",
    "model.add(Dense(nb_dense[2], activation='softmax'))\n",
    "\n",
    "## Build model\n",
    "# Definition buildmodel(model,epochsize,batchsize, optimiser, lr)\n",
    "model4 = buildmodel(model,num_epochs,batch_size,\"Adam\",0.001)"
   ]
  },
  {
   "cell_type": "markdown",
   "metadata": {},
   "source": [
    "### Model5 - Conv3D layers + Larger Dense Layer + Dropout  + L2 Regularization"
   ]
  },
  {
   "cell_type": "code",
   "execution_count": 22,
   "metadata": {},
   "outputs": [
    {
     "name": "stdout",
     "output_type": "stream",
     "text": [
      "_________________________________________________________________\n",
      "Layer (type)                 Output Shape              Param #   \n",
      "=================================================================\n",
      "conv3d_41 (Conv3D)           (None, 15, 120, 120, 16)  400       \n",
      "_________________________________________________________________\n",
      "batch_normalization_33 (Batc (None, 15, 120, 120, 16)  64        \n",
      "_________________________________________________________________\n",
      "activation_41 (Activation)   (None, 15, 120, 120, 16)  0         \n",
      "_________________________________________________________________\n",
      "dropout_44 (Dropout)         (None, 15, 120, 120, 16)  0         \n",
      "_________________________________________________________________\n",
      "average_pooling3d_25 (Averag (None, 7, 60, 60, 16)     0         \n",
      "_________________________________________________________________\n",
      "conv3d_42 (Conv3D)           (None, 7, 60, 60, 32)     4128      \n",
      "_________________________________________________________________\n",
      "batch_normalization_34 (Batc (None, 7, 60, 60, 32)     128       \n",
      "_________________________________________________________________\n",
      "activation_42 (Activation)   (None, 7, 60, 60, 32)     0         \n",
      "_________________________________________________________________\n",
      "dropout_45 (Dropout)         (None, 7, 60, 60, 32)     0         \n",
      "_________________________________________________________________\n",
      "average_pooling3d_26 (Averag (None, 3, 30, 30, 32)     0         \n",
      "_________________________________________________________________\n",
      "conv3d_43 (Conv3D)           (None, 3, 30, 30, 64)     16448     \n",
      "_________________________________________________________________\n",
      "batch_normalization_35 (Batc (None, 3, 30, 30, 64)     256       \n",
      "_________________________________________________________________\n",
      "activation_43 (Activation)   (None, 3, 30, 30, 64)     0         \n",
      "_________________________________________________________________\n",
      "dropout_46 (Dropout)         (None, 3, 30, 30, 64)     0         \n",
      "_________________________________________________________________\n",
      "average_pooling3d_27 (Averag (None, 1, 15, 15, 64)     0         \n",
      "_________________________________________________________________\n",
      "conv3d_44 (Conv3D)           (None, 1, 15, 15, 128)    65664     \n",
      "_________________________________________________________________\n",
      "batch_normalization_36 (Batc (None, 1, 15, 15, 128)    512       \n",
      "_________________________________________________________________\n",
      "activation_44 (Activation)   (None, 1, 15, 15, 128)    0         \n",
      "_________________________________________________________________\n",
      "dropout_47 (Dropout)         (None, 1, 15, 15, 128)    0         \n",
      "_________________________________________________________________\n",
      "flatten_9 (Flatten)          (None, 28800)             0         \n",
      "_________________________________________________________________\n",
      "dense_15 (Dense)             (None, 64)                1843264   \n",
      "_________________________________________________________________\n",
      "dropout_48 (Dropout)         (None, 64)                0         \n",
      "_________________________________________________________________\n",
      "dense_16 (Dense)             (None, 64)                4160      \n",
      "_________________________________________________________________\n",
      "dropout_49 (Dropout)         (None, 64)                0         \n",
      "_________________________________________________________________\n",
      "dense_17 (Dense)             (None, 5)                 325       \n",
      "=================================================================\n",
      "Total params: 1,935,349\n",
      "Trainable params: 1,934,869\n",
      "Non-trainable params: 480\n",
      "_________________________________________________________________\n",
      "None\n",
      "Source path =  val/ Source path =  train/ ; batch size = Epoch 1/10\n",
      "; batch size = 10\n",
      "10\n"
     ]
    },
    {
     "name": "stderr",
     "output_type": "stream",
     "text": [
      "/mnt/disks/user/anaconda3/lib/python3.6/site-packages/ipykernel_launcher.py:20: DeprecationWarning: `imread` is deprecated!\n",
      "`imread` is deprecated in SciPy 1.0.0, and will be removed in 1.2.0.\n",
      "Use ``imageio.imread`` instead.\n",
      "/mnt/disks/user/anaconda3/lib/python3.6/site-packages/skimage/transform/_warps.py:110: UserWarning: Anti-aliasing will be enabled by default in skimage 0.15 to avoid aliasing artifacts when down-sampling images.\n",
      "  warn(\"Anti-aliasing will be enabled by default in skimage 0.15 to \"\n"
     ]
    },
    {
     "name": "stdout",
     "output_type": "stream",
     "text": [
      "65/67 [============================>.] - ETA: 2s - loss: 4.4945 - categorical_accuracy: 0.2062"
     ]
    },
    {
     "name": "stderr",
     "output_type": "stream",
     "text": [
      "/mnt/disks/user/anaconda3/lib/python3.6/site-packages/ipykernel_launcher.py:44: DeprecationWarning: `imread` is deprecated!\n",
      "`imread` is deprecated in SciPy 1.0.0, and will be removed in 1.2.0.\n",
      "Use ``imageio.imread`` instead.\n"
     ]
    },
    {
     "name": "stdout",
     "output_type": "stream",
     "text": [
      "67/67 [==============================] - 68s 1s/step - loss: 4.4668 - categorical_accuracy: 0.2119 - val_loss: 3.3724 - val_categorical_accuracy: 0.2200\n",
      "\n",
      "Epoch 00001: saving model to model_init_2021-02-0514_13_19.400492/model-00001-4.46678-0.21194-3.37237-0.22000.h5\n",
      "Epoch 2/10\n",
      "67/67 [==============================] - 52s 769ms/step - loss: 2.8641 - categorical_accuracy: 0.1806 - val_loss: 2.5594 - val_categorical_accuracy: 0.1800\n",
      "\n",
      "Epoch 00002: saving model to model_init_2021-02-0514_13_19.400492/model-00002-2.86407-0.18060-2.55943-0.18000.h5\n",
      "Epoch 3/10\n",
      "67/67 [==============================] - 61s 911ms/step - loss: 2.2655 - categorical_accuracy: 0.2075 - val_loss: 2.0657 - val_categorical_accuracy: 0.2100\n",
      "\n",
      "Epoch 00003: saving model to model_init_2021-02-0514_13_19.400492/model-00003-2.26546-0.20746-2.06567-0.21000.h5\n",
      "Epoch 4/10\n",
      "67/67 [==============================] - 55s 815ms/step - loss: 1.9652 - categorical_accuracy: 0.2015 - val_loss: 1.8714 - val_categorical_accuracy: 0.2100\n",
      "\n",
      "Epoch 00004: saving model to model_init_2021-02-0514_13_19.400492/model-00004-1.96524-0.20149-1.87139-0.21000.h5\n",
      "Epoch 5/10\n",
      "67/67 [==============================] - 57s 852ms/step - loss: 1.8293 - categorical_accuracy: 0.2269 - val_loss: 1.7462 - val_categorical_accuracy: 0.2700\n",
      "\n",
      "Epoch 00005: saving model to model_init_2021-02-0514_13_19.400492/model-00005-1.82934-0.22687-1.74616-0.27000.h5\n",
      "Epoch 6/10\n",
      "67/67 [==============================] - 55s 826ms/step - loss: 1.7613 - categorical_accuracy: 0.2776 - val_loss: 1.6475 - val_categorical_accuracy: 0.3400\n",
      "\n",
      "Epoch 00006: saving model to model_init_2021-02-0514_13_19.400492/model-00006-1.76134-0.27761-1.64750-0.34000.h5\n",
      "Epoch 7/10\n",
      "67/67 [==============================] - 66s 985ms/step - loss: 1.6696 - categorical_accuracy: 0.3045 - val_loss: 1.5266 - val_categorical_accuracy: 0.3900\n",
      "\n",
      "Epoch 00007: saving model to model_init_2021-02-0514_13_19.400492/model-00007-1.66965-0.30448-1.52662-0.39000.h5\n",
      "Epoch 8/10\n",
      "67/67 [==============================] - 64s 952ms/step - loss: 1.5972 - categorical_accuracy: 0.3388 - val_loss: 1.6118 - val_categorical_accuracy: 0.3700\n",
      "\n",
      "Epoch 00008: saving model to model_init_2021-02-0514_13_19.400492/model-00008-1.59724-0.33881-1.61183-0.37000.h5\n",
      "Epoch 9/10\n",
      "67/67 [==============================] - 56s 831ms/step - loss: 1.5463 - categorical_accuracy: 0.3433 - val_loss: 2.1413 - val_categorical_accuracy: 0.3300\n",
      "\n",
      "Epoch 00009: saving model to model_init_2021-02-0514_13_19.400492/model-00009-1.54626-0.34328-2.14132-0.33000.h5\n",
      "Epoch 10/10\n",
      "67/67 [==============================] - 57s 850ms/step - loss: 1.5404 - categorical_accuracy: 0.3582 - val_loss: 1.4045 - val_categorical_accuracy: 0.4400\n",
      "\n",
      "Epoch 00010: saving model to model_init_2021-02-0514_13_19.400492/model-00010-1.54036-0.35821-1.40445-0.44000.h5\n"
     ]
    },
    {
     "data": {
      "image/png": "[encoded data removed]",
      "text/plain": [
       "<Figure size 432x288 with 1 Axes>"
      ]
     },
     "metadata": {},
     "output_type": "display_data"
    },
    {
     "data": {
      "image/png": "[encoded data removed]",
      "text/plain": [
       "<Figure size 432x288 with 1 Axes>"
      ]
     },
     "metadata": {},
     "output_type": "display_data"
    }
   ],
   "source": [
    "curr_dt_time = datetime.datetime.now()\n",
    "\n",
    "batch_size = 10 #experiment with the batch size\n",
    "num_epochs = 10 # choose the number of epochs\n",
    "\n",
    "nb_filters = [16,32,64,128]\n",
    "nb_dense = [64, 64, 5]\n",
    "\n",
    "kernel = (2,2,2)\n",
    "# Input\n",
    "input_shape=(frames,120,120,3)\n",
    "\n",
    "# Define model\n",
    "model = Sequential()\n",
    "\n",
    "model.add(Conv3D(nb_filters[0], kernel_size=kernel, input_shape=input_shape,padding='same'))\n",
    "model.add(BatchNormalization())\n",
    "model.add(Activation('relu'))\n",
    "model.add(Dropout(0.25))\n",
    "\n",
    "model.add(AveragePooling3D(pool_size=(2,2,2)))\n",
    "\n",
    "model.add(Conv3D(nb_filters[1], kernel_size=kernel,padding='same'))\n",
    "model.add(BatchNormalization())\n",
    "model.add(Activation('relu'))\n",
    "model.add(Dropout(0.25))\n",
    "\n",
    "model.add(AveragePooling3D(pool_size=(2,2,2)))\n",
    "\n",
    "model.add(Conv3D(nb_filters[2], kernel_size=kernel,padding='same'))\n",
    "model.add(BatchNormalization())\n",
    "model.add(Activation('relu'))\n",
    "model.add(Dropout(0.25))\n",
    "\n",
    "model.add(AveragePooling3D(pool_size=(2,2,2)))\n",
    "\n",
    "model.add(Conv3D(nb_filters[3], kernel_size=kernel,padding='same'))\n",
    "model.add(BatchNormalization())\n",
    "model.add(Activation('relu'))\n",
    "model.add(Dropout(0.25))\n",
    "\n",
    "\n",
    "# model.add(MaxPooling3D(pool_size=(2,2,2)))\n",
    "\n",
    "#Flatten Layers\n",
    "model.add(Flatten())\n",
    "\n",
    "model.add(Dense(nb_dense[0], activation='relu',kernel_regularizer=regularizers.l2(0.02)))\n",
    "model.add(Dropout(0.25))\n",
    "          \n",
    "model.add(Dense(nb_dense[0], activation='relu',kernel_regularizer=regularizers.l2(0.02)))\n",
    "model.add(Dropout(0.25))\n",
    "\n",
    "#softmax layer\n",
    "model.add(Dense(nb_dense[2], activation='softmax'))\n",
    "\n",
    "## Build model\n",
    "# Definition buildmodel(model,epochsize,batchsize, optimiser, lr)\n",
    "model5 = buildmodel(model,num_epochs,batch_size,\"Adam\",0.001)"
   ]
  },
  {
   "cell_type": "markdown",
   "metadata": {},
   "source": [
    "### Model6 - Conv3D layers + Larger Dense Layer + Dropout  "
   ]
  },
  {
   "cell_type": "code",
   "execution_count": 23,
   "metadata": {},
   "outputs": [
    {
     "name": "stdout",
     "output_type": "stream",
     "text": [
      "_________________________________________________________________\n",
      "Layer (type)                 Output Shape              Param #   \n",
      "=================================================================\n",
      "conv3d_45 (Conv3D)           (None, 15, 120, 120, 16)  400       \n",
      "_________________________________________________________________\n",
      "batch_normalization_37 (Batc (None, 15, 120, 120, 16)  64        \n",
      "_________________________________________________________________\n",
      "activation_45 (Activation)   (None, 15, 120, 120, 16)  0         \n",
      "_________________________________________________________________\n",
      "dropout_50 (Dropout)         (None, 15, 120, 120, 16)  0         \n",
      "_________________________________________________________________\n",
      "average_pooling3d_28 (Averag (None, 7, 60, 60, 16)     0         \n",
      "_________________________________________________________________\n",
      "conv3d_46 (Conv3D)           (None, 7, 60, 60, 32)     4128      \n",
      "_________________________________________________________________\n",
      "batch_normalization_38 (Batc (None, 7, 60, 60, 32)     128       \n",
      "_________________________________________________________________\n",
      "activation_46 (Activation)   (None, 7, 60, 60, 32)     0         \n",
      "_________________________________________________________________\n",
      "dropout_51 (Dropout)         (None, 7, 60, 60, 32)     0         \n",
      "_________________________________________________________________\n",
      "average_pooling3d_29 (Averag (None, 3, 30, 30, 32)     0         \n",
      "_________________________________________________________________\n",
      "conv3d_47 (Conv3D)           (None, 3, 30, 30, 64)     16448     \n",
      "_________________________________________________________________\n",
      "batch_normalization_39 (Batc (None, 3, 30, 30, 64)     256       \n",
      "_________________________________________________________________\n",
      "activation_47 (Activation)   (None, 3, 30, 30, 64)     0         \n",
      "_________________________________________________________________\n",
      "dropout_52 (Dropout)         (None, 3, 30, 30, 64)     0         \n",
      "_________________________________________________________________\n",
      "average_pooling3d_30 (Averag (None, 1, 15, 15, 64)     0         \n",
      "_________________________________________________________________\n",
      "conv3d_48 (Conv3D)           (None, 1, 15, 15, 128)    65664     \n",
      "_________________________________________________________________\n",
      "batch_normalization_40 (Batc (None, 1, 15, 15, 128)    512       \n",
      "_________________________________________________________________\n",
      "activation_48 (Activation)   (None, 1, 15, 15, 128)    0         \n",
      "_________________________________________________________________\n",
      "dropout_53 (Dropout)         (None, 1, 15, 15, 128)    0         \n",
      "_________________________________________________________________\n",
      "flatten_10 (Flatten)         (None, 28800)             0         \n",
      "_________________________________________________________________\n",
      "dense_18 (Dense)             (None, 256)               7373056   \n",
      "_________________________________________________________________\n",
      "dropout_54 (Dropout)         (None, 256)               0         \n",
      "_________________________________________________________________\n",
      "dense_19 (Dense)             (None, 128)               32896     \n",
      "_________________________________________________________________\n",
      "dropout_55 (Dropout)         (None, 128)               0         \n",
      "_________________________________________________________________\n",
      "dense_20 (Dense)             (None, 64)                8256      \n",
      "_________________________________________________________________\n",
      "dropout_56 (Dropout)         (None, 64)                0         \n",
      "_________________________________________________________________\n",
      "dense_21 (Dense)             (None, 5)                 325       \n",
      "=================================================================\n",
      "Total params: 7,502,133\n",
      "Trainable params: 7,501,653\n",
      "Non-trainable params: 480\n",
      "_________________________________________________________________\n",
      "None\n",
      "Source path =  val/ ; batch size = 10\n",
      "Source path =  train/ ; batch size = 10\n",
      "Epoch 1/10\n"
     ]
    },
    {
     "name": "stderr",
     "output_type": "stream",
     "text": [
      "/mnt/disks/user/anaconda3/lib/python3.6/site-packages/ipykernel_launcher.py:20: DeprecationWarning: `imread` is deprecated!\n",
      "`imread` is deprecated in SciPy 1.0.0, and will be removed in 1.2.0.\n",
      "Use ``imageio.imread`` instead.\n",
      "/mnt/disks/user/anaconda3/lib/python3.6/site-packages/skimage/transform/_warps.py:110: UserWarning: Anti-aliasing will be enabled by default in skimage 0.15 to avoid aliasing artifacts when down-sampling images.\n",
      "  warn(\"Anti-aliasing will be enabled by default in skimage 0.15 to \"\n"
     ]
    },
    {
     "name": "stdout",
     "output_type": "stream",
     "text": [
      "65/67 [============================>.] - ETA: 1s - loss: 3.1633 - categorical_accuracy: 0.2538"
     ]
    },
    {
     "name": "stderr",
     "output_type": "stream",
     "text": [
      "/mnt/disks/user/anaconda3/lib/python3.6/site-packages/ipykernel_launcher.py:44: DeprecationWarning: `imread` is deprecated!\n",
      "`imread` is deprecated in SciPy 1.0.0, and will be removed in 1.2.0.\n",
      "Use ``imageio.imread`` instead.\n"
     ]
    },
    {
     "name": "stdout",
     "output_type": "stream",
     "text": [
      "67/67 [==============================] - 59s 879ms/step - loss: 3.1365 - categorical_accuracy: 0.2552 - val_loss: 1.4913 - val_categorical_accuracy: 0.2900\n",
      "\n",
      "Epoch 00001: saving model to model_init_2021-02-0514_23_30.215137/model-00001-3.13649-0.25522-1.49131-0.29000.h5\n",
      "Epoch 2/10\n",
      "67/67 [==============================] - 57s 845ms/step - loss: 1.6642 - categorical_accuracy: 0.2597 - val_loss: 1.4905 - val_categorical_accuracy: 0.3700\n",
      "\n",
      "Epoch 00002: saving model to model_init_2021-02-0514_23_30.215137/model-00002-1.66419-0.25970-1.49051-0.37000.h5\n",
      "Epoch 3/10\n",
      "67/67 [==============================] - 57s 849ms/step - loss: 1.5123 - categorical_accuracy: 0.3299 - val_loss: 1.3634 - val_categorical_accuracy: 0.5000\n",
      "\n",
      "Epoch 00003: saving model to model_init_2021-02-0514_23_30.215137/model-00003-1.51234-0.32985-1.36344-0.50000.h5\n",
      "Epoch 4/10\n",
      "67/67 [==============================] - 57s 847ms/step - loss: 1.3895 - categorical_accuracy: 0.3791 - val_loss: 1.2891 - val_categorical_accuracy: 0.4800\n",
      "\n",
      "Epoch 00004: saving model to model_init_2021-02-0514_23_30.215137/model-00004-1.38949-0.37910-1.28906-0.48000.h5\n",
      "Epoch 5/10\n",
      "67/67 [==============================] - 56s 833ms/step - loss: 1.3266 - categorical_accuracy: 0.4433 - val_loss: 2.0966 - val_categorical_accuracy: 0.3100\n",
      "\n",
      "Epoch 00005: saving model to model_init_2021-02-0514_23_30.215137/model-00005-1.32662-0.44328-2.09656-0.31000.h5\n",
      "Epoch 6/10\n",
      "67/67 [==============================] - 54s 809ms/step - loss: 1.2405 - categorical_accuracy: 0.4358 - val_loss: 1.0432 - val_categorical_accuracy: 0.6400\n",
      "\n",
      "Epoch 00006: saving model to model_init_2021-02-0514_23_30.215137/model-00006-1.24053-0.43582-1.04322-0.64000.h5\n",
      "Epoch 7/10\n",
      "67/67 [==============================] - 56s 841ms/step - loss: 1.1880 - categorical_accuracy: 0.5075 - val_loss: 1.7617 - val_categorical_accuracy: 0.2900\n",
      "\n",
      "Epoch 00007: saving model to model_init_2021-02-0514_23_30.215137/model-00007-1.18803-0.50746-1.76166-0.29000.h5\n",
      "Epoch 8/10\n",
      "67/67 [==============================] - 60s 900ms/step - loss: 1.1722 - categorical_accuracy: 0.5373 - val_loss: 1.0786 - val_categorical_accuracy: 0.5600\n",
      "\n",
      "Epoch 00008: saving model to model_init_2021-02-0514_23_30.215137/model-00008-1.17217-0.53731-1.07860-0.56000.h5\n",
      "Epoch 9/10\n",
      "67/67 [==============================] - 54s 811ms/step - loss: 1.1248 - categorical_accuracy: 0.5567 - val_loss: 1.1260 - val_categorical_accuracy: 0.5500\n",
      "\n",
      "Epoch 00009: saving model to model_init_2021-02-0514_23_30.215137/model-00009-1.12478-0.55672-1.12599-0.55000.h5\n",
      "Epoch 10/10\n",
      "67/67 [==============================] - 64s 955ms/step - loss: 1.0495 - categorical_accuracy: 0.6060 - val_loss: 0.9934 - val_categorical_accuracy: 0.6500\n",
      "\n",
      "Epoch 00010: saving model to model_init_2021-02-0514_23_30.215137/model-00010-1.04950-0.60597-0.99337-0.65000.h5\n"
     ]
    },
    {
     "data": {
      "image/png": "[encoded data removed]",
      "text/plain": [
       "<Figure size 432x288 with 1 Axes>"
      ]
     },
     "metadata": {},
     "output_type": "display_data"
    },
    {
     "data": {
      "image/png": "[encoded data removed]",
      "text/plain": [
       "<Figure size 432x288 with 1 Axes>"
      ]
     },
     "metadata": {},
     "output_type": "display_data"
    }
   ],
   "source": [
    "# model6\n",
    "\n",
    "curr_dt_time = datetime.datetime.now()\n",
    "\n",
    "batch_size = 10 #experiment with the batch size\n",
    "num_epochs = 10 # choose the number of epochs\n",
    "\n",
    "nb_filters = [16,32,64,128]\n",
    "nb_dense = [256,128,64,5]\n",
    "\n",
    "kernel = (2,2,2)\n",
    "# Input\n",
    "input_shape=(frames,120,120,3)\n",
    "\n",
    "# Define model\n",
    "model = Sequential()\n",
    "\n",
    "model.add(Conv3D(nb_filters[0], kernel_size=kernel, input_shape=input_shape,padding='same'))\n",
    "model.add(BatchNormalization())\n",
    "model.add(Activation('relu'))\n",
    "model.add(Dropout(0.25))\n",
    "\n",
    "model.add(AveragePooling3D(pool_size=(2,2,2)))\n",
    "\n",
    "model.add(Conv3D(nb_filters[1], kernel_size=kernel,padding='same'))\n",
    "model.add(BatchNormalization())\n",
    "model.add(Activation('relu'))\n",
    "model.add(Dropout(0.25))\n",
    "\n",
    "model.add(AveragePooling3D(pool_size=(2,2,2)))\n",
    "\n",
    "model.add(Conv3D(nb_filters[2], kernel_size=kernel,padding='same'))\n",
    "model.add(BatchNormalization())\n",
    "model.add(Activation('relu'))\n",
    "model.add(Dropout(0.25))\n",
    "\n",
    "model.add(AveragePooling3D(pool_size=(2,2,2)))\n",
    "\n",
    "model.add(Conv3D(nb_filters[3], kernel_size=kernel,padding='same'))\n",
    "model.add(BatchNormalization())\n",
    "model.add(Activation('relu'))\n",
    "model.add(Dropout(0.25))\n",
    "\n",
    "\n",
    "# model.add(MaxPooling3D(pool_size=(2,2,2)))\n",
    "\n",
    "#Flatten Layers\n",
    "model.add(Flatten())\n",
    "\n",
    "model.add(Dense(nb_dense[0], activation='relu'))\n",
    "model.add(Dropout(0.25))\n",
    "          \n",
    "model.add(Dense(nb_dense[1], activation='relu'))\n",
    "model.add(Dropout(0.25))\n",
    "\n",
    "model.add(Dense(nb_dense[2], activation='relu'))\n",
    "model.add(Dropout(0.25))\n",
    "          \n",
    "\n",
    "\n",
    "#softmax layer\n",
    "model.add(Dense(nb_dense[3], activation='softmax'))\n",
    "\n",
    "## Build model\n",
    "# Definition buildmodel(model,epochsize,batchsize, optimiser, lr)\n",
    "model6 = buildmodel(model,num_epochs,batch_size,\"Adam\",0.001)"
   ]
  },
  {
   "cell_type": "markdown",
   "metadata": {},
   "source": [
    "### Conv2D Layers "
   ]
  },
  {
   "cell_type": "code",
   "execution_count": 24,
   "metadata": {},
   "outputs": [],
   "source": [
    "# Import libraries for building model\n",
    "from keras.models import Sequential, Model\n",
    "from keras.layers import Dense, GRU, Flatten, TimeDistributed, Flatten, BatchNormalization, Activation\n",
    "from keras.layers.convolutional import Conv3D, MaxPooling3D\n",
    "from keras.callbacks import ModelCheckpoint, ReduceLROnPlateau\n",
    "from keras import optimizers\n",
    "from keras.layers.convolutional import Conv3D,Conv2D, MaxPooling3D,MaxPooling2D\n",
    "from keras.layers import Dense, GRU, Flatten, TimeDistributed, Flatten, BatchNormalization, Activation, Dropout,LSTM\n",
    "from keras.regularizers import l2"
   ]
  },
  {
   "cell_type": "markdown",
   "metadata": {},
   "source": [
    "### Conv2D layers + GRU Layer + No dropout"
   ]
  },
  {
   "cell_type": "code",
   "execution_count": 25,
   "metadata": {},
   "outputs": [
    {
     "name": "stdout",
     "output_type": "stream",
     "text": [
      "_________________________________________________________________\n",
      "Layer (type)                 Output Shape              Param #   \n",
      "=================================================================\n",
      "time_distributed_1 (TimeDist (None, 15, 60, 60, 16)    448       \n",
      "_________________________________________________________________\n",
      "time_distributed_2 (TimeDist (None, 15, 60, 60, 16)    64        \n",
      "_________________________________________________________________\n",
      "time_distributed_3 (TimeDist (None, 15, 30, 30, 16)    0         \n",
      "_________________________________________________________________\n",
      "time_distributed_4 (TimeDist (None, 15, 30, 30, 32)    4640      \n",
      "_________________________________________________________________\n",
      "time_distributed_5 (TimeDist (None, 15, 30, 30, 32)    128       \n",
      "_________________________________________________________________\n",
      "time_distributed_6 (TimeDist (None, 15, 15, 15, 32)    0         \n",
      "_________________________________________________________________\n",
      "time_distributed_7 (TimeDist (None, 15, 15, 15, 64)    18496     \n",
      "_________________________________________________________________\n",
      "time_distributed_8 (TimeDist (None, 15, 15, 15, 64)    256       \n",
      "_________________________________________________________________\n",
      "time_distributed_9 (TimeDist (None, 15, 7, 7, 64)      0         \n",
      "_________________________________________________________________\n",
      "time_distributed_10 (TimeDis (None, 15, 7, 7, 128)     32896     \n",
      "_________________________________________________________________\n",
      "time_distributed_11 (TimeDis (None, 15, 7, 7, 128)     512       \n",
      "_________________________________________________________________\n",
      "time_distributed_12 (TimeDis (None, 15, 3, 3, 128)     0         \n",
      "_________________________________________________________________\n",
      "time_distributed_13 (TimeDis (None, 15, 1152)          0         \n",
      "_________________________________________________________________\n",
      "dense_22 (Dense)             (None, 15, 128)           147584    \n",
      "_________________________________________________________________\n",
      "dense_23 (Dense)             (None, 15, 64)            8256      \n",
      "_________________________________________________________________\n",
      "dense_24 (Dense)             (None, 15, 32)            2080      \n",
      "_________________________________________________________________\n",
      "gru_1 (GRU)                  (None, 64)                18624     \n",
      "_________________________________________________________________\n",
      "dense_25 (Dense)             (None, 5)                 325       \n",
      "=================================================================\n",
      "Total params: 234,309\n",
      "Trainable params: 233,829\n",
      "Non-trainable params: 480\n",
      "_________________________________________________________________\n",
      "None\n",
      "Source path = Source path =  val/ ; batch size = 10\n",
      "Epoch 1/10\n",
      " train/ ; batch size = 10\n"
     ]
    },
    {
     "name": "stderr",
     "output_type": "stream",
     "text": [
      "/mnt/disks/user/anaconda3/lib/python3.6/site-packages/ipykernel_launcher.py:20: DeprecationWarning: `imread` is deprecated!\n",
      "`imread` is deprecated in SciPy 1.0.0, and will be removed in 1.2.0.\n",
      "Use ``imageio.imread`` instead.\n",
      "/mnt/disks/user/anaconda3/lib/python3.6/site-packages/skimage/transform/_warps.py:110: UserWarning: Anti-aliasing will be enabled by default in skimage 0.15 to avoid aliasing artifacts when down-sampling images.\n",
      "  warn(\"Anti-aliasing will be enabled by default in skimage 0.15 to \"\n"
     ]
    },
    {
     "name": "stdout",
     "output_type": "stream",
     "text": [
      "66/67 [============================>.] - ETA: 0s - loss: 1.3134 - categorical_accuracy: 0.4424"
     ]
    },
    {
     "name": "stderr",
     "output_type": "stream",
     "text": [
      "/mnt/disks/user/anaconda3/lib/python3.6/site-packages/ipykernel_launcher.py:44: DeprecationWarning: `imread` is deprecated!\n",
      "`imread` is deprecated in SciPy 1.0.0, and will be removed in 1.2.0.\n",
      "Use ``imageio.imread`` instead.\n"
     ]
    },
    {
     "name": "stdout",
     "output_type": "stream",
     "text": [
      "67/67 [==============================] - 66s 990ms/step - loss: 1.3312 - categorical_accuracy: 0.4358 - val_loss: 1.0590 - val_categorical_accuracy: 0.6100\n",
      "\n",
      "Epoch 00001: saving model to model_init_2021-02-0514_23_30.215137/model-00001-1.33116-0.43582-1.05901-0.61000.h5\n",
      "Epoch 2/10\n",
      "67/67 [==============================] - 50s 742ms/step - loss: 0.9954 - categorical_accuracy: 0.5985 - val_loss: 0.9899 - val_categorical_accuracy: 0.6400\n",
      "\n",
      "Epoch 00002: saving model to model_init_2021-02-0514_23_30.215137/model-00002-0.99543-0.59851-0.98988-0.64000.h5\n",
      "Epoch 3/10\n",
      "67/67 [==============================] - 65s 970ms/step - loss: 0.8084 - categorical_accuracy: 0.6851 - val_loss: 1.0736 - val_categorical_accuracy: 0.5700\n",
      "\n",
      "Epoch 00003: saving model to model_init_2021-02-0514_23_30.215137/model-00003-0.80843-0.68507-1.07360-0.57000.h5\n",
      "Epoch 4/10\n",
      "67/67 [==============================] - 55s 821ms/step - loss: 0.6277 - categorical_accuracy: 0.7687 - val_loss: 1.5411 - val_categorical_accuracy: 0.4100\n",
      "\n",
      "Epoch 00004: saving model to model_init_2021-02-0514_23_30.215137/model-00004-0.62765-0.76866-1.54106-0.41000.h5\n",
      "Epoch 5/10\n",
      "67/67 [==============================] - 55s 827ms/step - loss: 0.4985 - categorical_accuracy: 0.8313 - val_loss: 1.0402 - val_categorical_accuracy: 0.6300\n",
      "\n",
      "Epoch 00005: saving model to model_init_2021-02-0514_23_30.215137/model-00005-0.49852-0.83134-1.04015-0.63000.h5\n",
      "Epoch 6/10\n",
      "67/67 [==============================] - 57s 844ms/step - loss: 0.3244 - categorical_accuracy: 0.8806 - val_loss: 1.1703 - val_categorical_accuracy: 0.6300\n",
      "\n",
      "Epoch 00006: saving model to model_init_2021-02-0514_23_30.215137/model-00006-0.32436-0.88060-1.17030-0.63000.h5\n",
      "Epoch 7/10\n",
      "67/67 [==============================] - 56s 837ms/step - loss: 0.2572 - categorical_accuracy: 0.9239 - val_loss: 1.3984 - val_categorical_accuracy: 0.5900\n",
      "\n",
      "Epoch 00007: saving model to model_init_2021-02-0514_23_30.215137/model-00007-0.25720-0.92388-1.39839-0.59000.h5\n",
      "\n",
      "Epoch 00007: ReduceLROnPlateau reducing learning rate to 1.0000000474974514e-05.\n",
      "Epoch 8/10\n",
      "67/67 [==============================] - 56s 840ms/step - loss: 0.3011 - categorical_accuracy: 0.9104 - val_loss: 1.2013 - val_categorical_accuracy: 0.6000\n",
      "\n",
      "Epoch 00008: saving model to model_init_2021-02-0514_23_30.215137/model-00008-0.30115-0.91045-1.20129-0.60000.h5\n",
      "Epoch 9/10\n",
      "67/67 [==============================] - 54s 803ms/step - loss: 0.2174 - categorical_accuracy: 0.9358 - val_loss: 1.0136 - val_categorical_accuracy: 0.6100\n",
      "\n",
      "Epoch 00009: saving model to model_init_2021-02-0514_23_30.215137/model-00009-0.21744-0.93582-1.01358-0.61000.h5\n",
      "Epoch 10/10\n",
      "67/67 [==============================] - 61s 908ms/step - loss: 0.1768 - categorical_accuracy: 0.9582 - val_loss: 0.9131 - val_categorical_accuracy: 0.6800\n",
      "\n",
      "Epoch 00010: saving model to model_init_2021-02-0514_23_30.215137/model-00010-0.17677-0.95821-0.91308-0.68000.h5\n"
     ]
    },
    {
     "data": {
      "image/png": "[encoded data removed]",
      "text/plain": [
       "<Figure size 432x288 with 1 Axes>"
      ]
     },
     "metadata": {},
     "output_type": "display_data"
    },
    {
     "data": {
      "image/png": "[encoded data removed]",
      "text/plain": [
       "<Figure size 432x288 with 1 Axes>"
      ]
     },
     "metadata": {},
     "output_type": "display_data"
    }
   ],
   "source": [
    "# Features\n",
    "batch_size = 10 #experiment with the batch size\n",
    "num_epochs = 10 # choose the number of epochs\n",
    "\n",
    "nb_featuremap = [16,32,64,128,256]\n",
    "nb_dense = [128,64,32,5]\n",
    "dropout = 0.25\n",
    "nb_classes = 5\n",
    "frames = 15\n",
    "\n",
    "# Input\n",
    "input_shape=(frames,120,120,3)\n",
    "\n",
    "model = Sequential()\n",
    "\n",
    "model.add(TimeDistributed(Conv2D(nb_featuremap[0], (3, 3), strides=(2, 2),activation='relu', padding='same'), input_shape=input_shape))\n",
    "model.add(TimeDistributed(BatchNormalization()))\n",
    "model.add(TimeDistributed(MaxPooling2D((2, 2), strides=(2, 2))))\n",
    "\n",
    "model.add(TimeDistributed(Conv2D(nb_featuremap[1], (3,3),padding='same', activation='relu')))\n",
    "model.add(TimeDistributed(BatchNormalization()))\n",
    "model.add(TimeDistributed(MaxPooling2D((2, 2), strides=(2, 2))))\n",
    "\n",
    "model.add(TimeDistributed(Conv2D(nb_featuremap[2], (3,3),padding='same', activation='relu')))\n",
    "model.add(TimeDistributed(BatchNormalization()))\n",
    "model.add(TimeDistributed(MaxPooling2D((2, 2), strides=(2, 2))))\n",
    "\n",
    "model.add(TimeDistributed(Conv2D(nb_featuremap[3], (2,2),padding='same', activation='relu')))\n",
    "model.add(TimeDistributed(BatchNormalization()))\n",
    "model.add(TimeDistributed(MaxPooling2D((2, 2), strides=(2, 2))))\n",
    "\n",
    "model.add(TimeDistributed(Flatten()))\n",
    "\n",
    "model.add(Dense(nb_dense[0], activation='relu'))\n",
    "model.add(Dense(nb_dense[1], activation='relu'))\n",
    "model.add(Dense(nb_dense[2], activation='relu'))\n",
    "\n",
    "## using GRU as the RNN model along with softmax as our last layer.\n",
    "model.add(GRU(64, return_sequences=False))\n",
    "\n",
    "model.add(Dense(nb_classes, activation='softmax')) # using Softmax as last layer\n",
    "\n",
    "## Build model\n",
    "# Definition buildmodel(model,epochsize,batchsize, optimiser, lr)\n",
    "model1 = buildmodel(model,num_epochs,batch_size,\"Adam\",0.001)"
   ]
  },
  {
   "cell_type": "markdown",
   "metadata": {},
   "source": [
    "### Model2 - Conv2D layers + GRU Layer +  dropout "
   ]
  },
  {
   "cell_type": "code",
   "execution_count": 26,
   "metadata": {},
   "outputs": [
    {
     "name": "stdout",
     "output_type": "stream",
     "text": [
      "_________________________________________________________________\n",
      "Layer (type)                 Output Shape              Param #   \n",
      "=================================================================\n",
      "time_distributed_14 (TimeDis (None, 15, 60, 60, 16)    448       \n",
      "_________________________________________________________________\n",
      "time_distributed_15 (TimeDis (None, 15, 60, 60, 16)    64        \n",
      "_________________________________________________________________\n",
      "time_distributed_16 (TimeDis (None, 15, 30, 30, 16)    0         \n",
      "_________________________________________________________________\n",
      "dropout_57 (Dropout)         (None, 15, 30, 30, 16)    0         \n",
      "_________________________________________________________________\n",
      "time_distributed_17 (TimeDis (None, 15, 30, 30, 32)    4640      \n",
      "_________________________________________________________________\n",
      "time_distributed_18 (TimeDis (None, 15, 30, 30, 32)    128       \n",
      "_________________________________________________________________\n",
      "time_distributed_19 (TimeDis (None, 15, 15, 15, 32)    0         \n",
      "_________________________________________________________________\n",
      "dropout_58 (Dropout)         (None, 15, 15, 15, 32)    0         \n",
      "_________________________________________________________________\n",
      "time_distributed_20 (TimeDis (None, 15, 15, 15, 64)    18496     \n",
      "_________________________________________________________________\n",
      "time_distributed_21 (TimeDis (None, 15, 15, 15, 64)    256       \n",
      "_________________________________________________________________\n",
      "time_distributed_22 (TimeDis (None, 15, 7, 7, 64)      0         \n",
      "_________________________________________________________________\n",
      "dropout_59 (Dropout)         (None, 15, 7, 7, 64)      0         \n",
      "_________________________________________________________________\n",
      "time_distributed_23 (TimeDis (None, 15, 7, 7, 128)     32896     \n",
      "_________________________________________________________________\n",
      "time_distributed_24 (TimeDis (None, 15, 7, 7, 128)     512       \n",
      "_________________________________________________________________\n",
      "time_distributed_25 (TimeDis (None, 15, 3, 3, 128)     0         \n",
      "_________________________________________________________________\n",
      "dropout_60 (Dropout)         (None, 15, 3, 3, 128)     0         \n",
      "_________________________________________________________________\n",
      "time_distributed_26 (TimeDis (None, 15, 1152)          0         \n",
      "_________________________________________________________________\n",
      "dense_26 (Dense)             (None, 15, 128)           147584    \n",
      "_________________________________________________________________\n",
      "dense_27 (Dense)             (None, 15, 64)            8256      \n",
      "_________________________________________________________________\n",
      "dense_28 (Dense)             (None, 15, 32)            2080      \n",
      "_________________________________________________________________\n",
      "dropout_61 (Dropout)         (None, 15, 32)            0         \n",
      "_________________________________________________________________\n",
      "gru_2 (GRU)                  (None, 64)                18624     \n",
      "_________________________________________________________________\n",
      "dropout_62 (Dropout)         (None, 64)                0         \n",
      "_________________________________________________________________\n",
      "dense_29 (Dense)             (None, 5)                 325       \n",
      "=================================================================\n",
      "Total params: 234,309\n",
      "Trainable params: 233,829\n",
      "Non-trainable params: 480\n",
      "_________________________________________________________________\n",
      "None\n",
      "Source path =  Source path =  train/ ; batch size = 10\n",
      "val/ ; batch size =Epoch 1/10\n",
      " 10\n"
     ]
    },
    {
     "name": "stderr",
     "output_type": "stream",
     "text": [
      "/mnt/disks/user/anaconda3/lib/python3.6/site-packages/ipykernel_launcher.py:20: DeprecationWarning: `imread` is deprecated!\n",
      "`imread` is deprecated in SciPy 1.0.0, and will be removed in 1.2.0.\n",
      "Use ``imageio.imread`` instead.\n",
      "/mnt/disks/user/anaconda3/lib/python3.6/site-packages/skimage/transform/_warps.py:110: UserWarning: Anti-aliasing will be enabled by default in skimage 0.15 to avoid aliasing artifacts when down-sampling images.\n",
      "  warn(\"Anti-aliasing will be enabled by default in skimage 0.15 to \"\n"
     ]
    },
    {
     "name": "stdout",
     "output_type": "stream",
     "text": [
      "66/67 [============================>.] - ETA: 0s - loss: 1.4608 - categorical_accuracy: 0.3530"
     ]
    },
    {
     "name": "stderr",
     "output_type": "stream",
     "text": [
      "/mnt/disks/user/anaconda3/lib/python3.6/site-packages/ipykernel_launcher.py:44: DeprecationWarning: `imread` is deprecated!\n",
      "`imread` is deprecated in SciPy 1.0.0, and will be removed in 1.2.0.\n",
      "Use ``imageio.imread`` instead.\n"
     ]
    },
    {
     "name": "stdout",
     "output_type": "stream",
     "text": [
      "67/67 [==============================] - 63s 939ms/step - loss: 1.4758 - categorical_accuracy: 0.3522 - val_loss: 1.3083 - val_categorical_accuracy: 0.4100\n",
      "\n",
      "Epoch 00001: saving model to model_init_2021-02-0514_23_30.215137/model-00001-1.47584-0.35224-1.30835-0.41000.h5\n",
      "Epoch 2/10\n",
      "67/67 [==============================] - 51s 761ms/step - loss: 1.1951 - categorical_accuracy: 0.4866 - val_loss: 1.0820 - val_categorical_accuracy: 0.5300\n",
      "\n",
      "Epoch 00002: saving model to model_init_2021-02-0514_23_30.215137/model-00002-1.19515-0.48657-1.08195-0.53000.h5\n",
      "Epoch 3/10\n",
      "67/67 [==============================] - 55s 819ms/step - loss: 1.1093 - categorical_accuracy: 0.5493 - val_loss: 1.7493 - val_categorical_accuracy: 0.2700\n",
      "\n",
      "Epoch 00003: saving model to model_init_2021-02-0514_23_30.215137/model-00003-1.10932-0.54925-1.74932-0.27000.h5\n",
      "Epoch 4/10\n",
      "67/67 [==============================] - 53s 795ms/step - loss: 0.9655 - categorical_accuracy: 0.5985 - val_loss: 1.4958 - val_categorical_accuracy: 0.4900\n",
      "\n",
      "Epoch 00004: saving model to model_init_2021-02-0514_23_30.215137/model-00004-0.96554-0.59851-1.49579-0.49000.h5\n",
      "Epoch 5/10\n",
      "67/67 [==============================] - 53s 797ms/step - loss: 0.9047 - categorical_accuracy: 0.6299 - val_loss: 1.6208 - val_categorical_accuracy: 0.4000\n",
      "\n",
      "Epoch 00005: saving model to model_init_2021-02-0514_23_30.215137/model-00005-0.90471-0.62985-1.62076-0.40000.h5\n",
      "Epoch 6/10\n",
      "67/67 [==============================] - 52s 782ms/step - loss: 0.7829 - categorical_accuracy: 0.6910 - val_loss: 1.2251 - val_categorical_accuracy: 0.5200\n",
      "\n",
      "Epoch 00006: saving model to model_init_2021-02-0514_23_30.215137/model-00006-0.78293-0.69104-1.22511-0.52000.h5\n",
      "Epoch 7/10\n",
      "67/67 [==============================] - 53s 786ms/step - loss: 0.7177 - categorical_accuracy: 0.7433 - val_loss: 0.9896 - val_categorical_accuracy: 0.6700\n",
      "\n",
      "Epoch 00007: saving model to model_init_2021-02-0514_23_30.215137/model-00007-0.71770-0.74328-0.98963-0.67000.h5\n",
      "Epoch 8/10\n",
      "67/67 [==============================] - 59s 887ms/step - loss: 0.6228 - categorical_accuracy: 0.7701 - val_loss: 2.2823 - val_categorical_accuracy: 0.4000\n",
      "\n",
      "Epoch 00008: saving model to model_init_2021-02-0514_23_30.215137/model-00008-0.62284-0.77015-2.28231-0.40000.h5\n",
      "Epoch 9/10\n",
      "67/67 [==============================] - 55s 826ms/step - loss: 0.4771 - categorical_accuracy: 0.8478 - val_loss: 1.4750 - val_categorical_accuracy: 0.6000\n",
      "\n",
      "Epoch 00009: saving model to model_init_2021-02-0514_23_30.215137/model-00009-0.47708-0.84776-1.47498-0.60000.h5\n",
      "Epoch 10/10\n",
      "67/67 [==============================] - 52s 783ms/step - loss: 0.5182 - categorical_accuracy: 0.7925 - val_loss: 1.1438 - val_categorical_accuracy: 0.6000\n",
      "\n",
      "Epoch 00010: saving model to model_init_2021-02-0514_23_30.215137/model-00010-0.51823-0.79254-1.14383-0.60000.h5\n"
     ]
    },
    {
     "data": {
      "image/png": "[encoded data removed]",
      "text/plain": [
       "<Figure size 432x288 with 1 Axes>"
      ]
     },
     "metadata": {},
     "output_type": "display_data"
    },
    {
     "data": {
      "image/png": "[encoded data removed]",
      "text/plain": [
       "<Figure size 432x288 with 1 Axes>"
      ]
     },
     "metadata": {},
     "output_type": "display_data"
    }
   ],
   "source": [
    "# Features\n",
    "batch_size = 10 #experiment with the batch size\n",
    "num_epochs = 10 # choose the number of epochs\n",
    "\n",
    "nb_featuremap = [16,32,64,128,256]\n",
    "nb_dense = [128,64,32,5]\n",
    "dropout = 0.25\n",
    "nb_classes = 5\n",
    "frames = 15\n",
    "\n",
    "# Input\n",
    "input_shape=(frames,120,120,3)\n",
    "\n",
    "model = Sequential()\n",
    "\n",
    "model.add(TimeDistributed(Conv2D(nb_featuremap[0], (3, 3), strides=(2, 2),activation='relu', padding='same'), input_shape=input_shape))\n",
    "model.add(TimeDistributed(BatchNormalization()))\n",
    "model.add(TimeDistributed(MaxPooling2D((2, 2), strides=(2, 2))))\n",
    "model.add(Dropout(dropout))\n",
    "\n",
    "model.add(TimeDistributed(Conv2D(nb_featuremap[1], (3,3),padding='same', activation='relu')))\n",
    "model.add(TimeDistributed(BatchNormalization()))\n",
    "model.add(TimeDistributed(MaxPooling2D((2, 2), strides=(2, 2))))\n",
    "model.add(Dropout(dropout))\n",
    "\n",
    "model.add(TimeDistributed(Conv2D(nb_featuremap[2], (3,3),padding='same', activation='relu')))\n",
    "model.add(TimeDistributed(BatchNormalization()))\n",
    "model.add(TimeDistributed(MaxPooling2D((2, 2), strides=(2, 2))))\n",
    "model.add(Dropout(dropout))\n",
    "\n",
    "model.add(TimeDistributed(Conv2D(nb_featuremap[3], (2,2),padding='same', activation='relu')))\n",
    "model.add(TimeDistributed(BatchNormalization()))\n",
    "model.add(TimeDistributed(MaxPooling2D((2, 2), strides=(2, 2))))\n",
    "model.add(Dropout(dropout))\n",
    "\n",
    "model.add(TimeDistributed(Flatten()))\n",
    "\n",
    "model.add(Dense(nb_dense[0], activation='relu'))\n",
    "model.add(Dense(nb_dense[1], activation='relu'))\n",
    "model.add(Dense(nb_dense[2], activation='relu'))\n",
    "model.add(Dropout(dropout))\n",
    "\n",
    "## using GRU as the RNN model along with softmax as our last layer.\n",
    "model.add(GRU(64, return_sequences=False))\n",
    "model.add(Dropout(dropout))\n",
    "\n",
    "model.add(Dense(nb_classes, activation='softmax')) # using Softmax as last layer\n",
    "\n",
    "## Build model\n",
    "# Definition buildmodel(model,epochsize,batchsize, optimiser, lr)\n",
    "model2 = buildmodel(model,num_epochs,batch_size,\"Adam\",0.001)"
   ]
  },
  {
   "cell_type": "markdown",
   "metadata": {},
   "source": [
    "### Model3 - Conv2D layers + GRU Layer +  dropout  + L2 regularization"
   ]
  },
  {
   "cell_type": "code",
   "execution_count": 27,
   "metadata": {},
   "outputs": [
    {
     "name": "stdout",
     "output_type": "stream",
     "text": [
      "_________________________________________________________________\n",
      "Layer (type)                 Output Shape              Param #   \n",
      "=================================================================\n",
      "time_distributed_27 (TimeDis (None, 15, 60, 60, 16)    448       \n",
      "_________________________________________________________________\n",
      "time_distributed_28 (TimeDis (None, 15, 60, 60, 16)    64        \n",
      "_________________________________________________________________\n",
      "time_distributed_29 (TimeDis (None, 15, 30, 30, 16)    0         \n",
      "_________________________________________________________________\n",
      "dropout_63 (Dropout)         (None, 15, 30, 30, 16)    0         \n",
      "_________________________________________________________________\n",
      "time_distributed_30 (TimeDis (None, 15, 30, 30, 32)    4640      \n",
      "_________________________________________________________________\n",
      "time_distributed_31 (TimeDis (None, 15, 30, 30, 32)    128       \n",
      "_________________________________________________________________\n",
      "time_distributed_32 (TimeDis (None, 15, 15, 15, 32)    0         \n",
      "_________________________________________________________________\n",
      "dropout_64 (Dropout)         (None, 15, 15, 15, 32)    0         \n",
      "_________________________________________________________________\n",
      "time_distributed_33 (TimeDis (None, 15, 15, 15, 64)    18496     \n",
      "_________________________________________________________________\n",
      "time_distributed_34 (TimeDis (None, 15, 15, 15, 64)    256       \n",
      "_________________________________________________________________\n",
      "time_distributed_35 (TimeDis (None, 15, 7, 7, 64)      0         \n",
      "_________________________________________________________________\n",
      "dropout_65 (Dropout)         (None, 15, 7, 7, 64)      0         \n",
      "_________________________________________________________________\n",
      "time_distributed_36 (TimeDis (None, 15, 7, 7, 128)     32896     \n",
      "_________________________________________________________________\n",
      "time_distributed_37 (TimeDis (None, 15, 7, 7, 128)     512       \n",
      "_________________________________________________________________\n",
      "time_distributed_38 (TimeDis (None, 15, 3, 3, 128)     0         \n",
      "_________________________________________________________________\n",
      "dropout_66 (Dropout)         (None, 15, 3, 3, 128)     0         \n",
      "_________________________________________________________________\n",
      "time_distributed_39 (TimeDis (None, 15, 1152)          0         \n",
      "_________________________________________________________________\n",
      "dense_30 (Dense)             (None, 15, 128)           147584    \n",
      "_________________________________________________________________\n",
      "dense_31 (Dense)             (None, 15, 64)            8256      \n",
      "_________________________________________________________________\n",
      "dense_32 (Dense)             (None, 15, 32)            2080      \n",
      "_________________________________________________________________\n",
      "dropout_67 (Dropout)         (None, 15, 32)            0         \n",
      "_________________________________________________________________\n",
      "gru_3 (GRU)                  (None, 64)                18624     \n",
      "_________________________________________________________________\n",
      "dropout_68 (Dropout)         (None, 64)                0         \n",
      "_________________________________________________________________\n",
      "dense_33 (Dense)             (None, 5)                 325       \n",
      "=================================================================\n",
      "Total params: 234,309\n",
      "Trainable params: 233,829\n",
      "Non-trainable params: 480\n",
      "_________________________________________________________________\n",
      "None\n",
      "Source path =  val/ ; batch size = 10\n",
      "Source path =  Epoch 1/10\n",
      "train/ ; batch size = 10\n"
     ]
    },
    {
     "name": "stderr",
     "output_type": "stream",
     "text": [
      "/mnt/disks/user/anaconda3/lib/python3.6/site-packages/ipykernel_launcher.py:20: DeprecationWarning: `imread` is deprecated!\n",
      "`imread` is deprecated in SciPy 1.0.0, and will be removed in 1.2.0.\n",
      "Use ``imageio.imread`` instead.\n",
      "/mnt/disks/user/anaconda3/lib/python3.6/site-packages/skimage/transform/_warps.py:110: UserWarning: Anti-aliasing will be enabled by default in skimage 0.15 to avoid aliasing artifacts when down-sampling images.\n",
      "  warn(\"Anti-aliasing will be enabled by default in skimage 0.15 to \"\n"
     ]
    },
    {
     "name": "stdout",
     "output_type": "stream",
     "text": [
      "66/67 [============================>.] - ETA: 0s - loss: 4.4930 - categorical_accuracy: 0.3500"
     ]
    },
    {
     "name": "stderr",
     "output_type": "stream",
     "text": [
      "/mnt/disks/user/anaconda3/lib/python3.6/site-packages/ipykernel_launcher.py:44: DeprecationWarning: `imread` is deprecated!\n",
      "`imread` is deprecated in SciPy 1.0.0, and will be removed in 1.2.0.\n",
      "Use ``imageio.imread`` instead.\n"
     ]
    },
    {
     "name": "stdout",
     "output_type": "stream",
     "text": [
      "67/67 [==============================] - 64s 951ms/step - loss: 4.4934 - categorical_accuracy: 0.3537 - val_loss: 3.6126 - val_categorical_accuracy: 0.5100\n",
      "\n",
      "Epoch 00001: saving model to model_init_2021-02-0514_23_30.215137/model-00001-4.49340-0.35373-3.61261-0.51000.h5\n",
      "Epoch 2/10\n",
      "67/67 [==============================] - 51s 760ms/step - loss: 3.2409 - categorical_accuracy: 0.4910 - val_loss: 3.1472 - val_categorical_accuracy: 0.3400\n",
      "\n",
      "Epoch 00002: saving model to model_init_2021-02-0514_23_30.215137/model-00002-3.24089-0.49104-3.14716-0.34000.h5\n",
      "Epoch 3/10\n",
      "67/67 [==============================] - 56s 830ms/step - loss: 2.5024 - categorical_accuracy: 0.5433 - val_loss: 3.4992 - val_categorical_accuracy: 0.3300\n",
      "\n",
      "Epoch 00003: saving model to model_init_2021-02-0514_23_30.215137/model-00003-2.50240-0.54328-3.49924-0.33000.h5\n",
      "Epoch 4/10\n",
      "67/67 [==============================] - 54s 810ms/step - loss: 2.0186 - categorical_accuracy: 0.5970 - val_loss: 2.4008 - val_categorical_accuracy: 0.4800\n",
      "\n",
      "Epoch 00004: saving model to model_init_2021-02-0514_23_30.215137/model-00004-2.01865-0.59701-2.40075-0.48000.h5\n",
      "Epoch 5/10\n",
      "67/67 [==============================] - 53s 798ms/step - loss: 1.7356 - categorical_accuracy: 0.6284 - val_loss: 1.9520 - val_categorical_accuracy: 0.4700\n",
      "\n",
      "Epoch 00005: saving model to model_init_2021-02-0514_23_30.215137/model-00005-1.73557-0.62836-1.95197-0.47000.h5\n",
      "Epoch 6/10\n",
      "67/67 [==============================] - 54s 812ms/step - loss: 1.5062 - categorical_accuracy: 0.6537 - val_loss: 1.9135 - val_categorical_accuracy: 0.5100\n",
      "\n",
      "Epoch 00006: saving model to model_init_2021-02-0514_23_30.215137/model-00006-1.50617-0.65373-1.91347-0.51000.h5\n",
      "Epoch 7/10\n",
      "67/67 [==============================] - 67s 1s/step - loss: 1.3546 - categorical_accuracy: 0.6597 - val_loss: 2.3054 - val_categorical_accuracy: 0.4100\n",
      "\n",
      "Epoch 00007: saving model to model_init_2021-02-0514_23_30.215137/model-00007-1.35461-0.65970-2.30536-0.41000.h5\n",
      "Epoch 8/10\n",
      "67/67 [==============================] - 55s 824ms/step - loss: 1.2299 - categorical_accuracy: 0.7090 - val_loss: 2.2173 - val_categorical_accuracy: 0.4500\n",
      "\n",
      "Epoch 00008: saving model to model_init_2021-02-0514_23_30.215137/model-00008-1.22993-0.70896-2.21730-0.45000.h5\n",
      "Epoch 9/10\n",
      "67/67 [==============================] - 56s 838ms/step - loss: 1.0471 - categorical_accuracy: 0.7731 - val_loss: 1.2989 - val_categorical_accuracy: 0.7000\n",
      "\n",
      "Epoch 00009: saving model to model_init_2021-02-0514_23_30.215137/model-00009-1.04706-0.77313-1.29886-0.70000.h5\n",
      "Epoch 10/10\n",
      "67/67 [==============================] - 56s 840ms/step - loss: 1.0182 - categorical_accuracy: 0.7881 - val_loss: 1.2933 - val_categorical_accuracy: 0.6300\n",
      "\n",
      "Epoch 00010: saving model to model_init_2021-02-0514_23_30.215137/model-00010-1.01816-0.78806-1.29326-0.63000.h5\n"
     ]
    },
    {
     "data": {
      "image/png": "[encoded data removed]",
      "text/plain": [
       "<Figure size 432x288 with 1 Axes>"
      ]
     },
     "metadata": {},
     "output_type": "display_data"
    },
    {
     "data": {
      "image/png": "[encoded data removed]",
      "text/plain": [
       "<Figure size 432x288 with 1 Axes>"
      ]
     },
     "metadata": {},
     "output_type": "display_data"
    }
   ],
   "source": [
    "# Model3\n",
    "\n",
    "# Features\n",
    "batch_size = 10 #experiment with the batch size\n",
    "num_epochs = 10 # choose the number of epochs\n",
    "\n",
    "nb_featuremap = [16,32,64,128,256]\n",
    "nb_dense = [128,64,32,5]\n",
    "dropout = 0.25\n",
    "nb_classes = 5\n",
    "frames = 15\n",
    "\n",
    "# Input\n",
    "input_shape=(frames,120,120,3)\n",
    "\n",
    "model = Sequential()\n",
    "\n",
    "model.add(TimeDistributed(Conv2D(nb_featuremap[0], (3, 3), strides=(2, 2),activation='relu', padding='same'), input_shape=input_shape))\n",
    "model.add(TimeDistributed(BatchNormalization()))\n",
    "model.add(TimeDistributed(MaxPooling2D((2, 2), strides=(2, 2))))\n",
    "model.add(Dropout(dropout))\n",
    "\n",
    "model.add(TimeDistributed(Conv2D(nb_featuremap[1], (3,3),padding='same', activation='relu')))\n",
    "model.add(TimeDistributed(BatchNormalization()))\n",
    "model.add(TimeDistributed(MaxPooling2D((2, 2), strides=(2, 2))))\n",
    "model.add(Dropout(dropout))\n",
    "\n",
    "model.add(TimeDistributed(Conv2D(nb_featuremap[2], (3,3),padding='same', activation='relu')))\n",
    "model.add(TimeDistributed(BatchNormalization()))\n",
    "model.add(TimeDistributed(MaxPooling2D((2, 2), strides=(2, 2))))\n",
    "model.add(Dropout(dropout))\n",
    "\n",
    "model.add(TimeDistributed(Conv2D(nb_featuremap[3], (2,2),padding='same', activation='relu')))\n",
    "model.add(TimeDistributed(BatchNormalization()))\n",
    "model.add(TimeDistributed(MaxPooling2D((2, 2), strides=(2, 2))))\n",
    "model.add(Dropout(dropout))\n",
    "\n",
    "model.add(TimeDistributed(Flatten()))\n",
    "\n",
    "model.add(Dense(nb_dense[0], activation='relu', kernel_regularizer=regularizers.l2(0.01)))\n",
    "model.add(Dense(nb_dense[1], activation='relu', kernel_regularizer=regularizers.l2(0.01)))\n",
    "model.add(Dense(nb_dense[2], activation='relu', kernel_regularizer=regularizers.l2(0.01)))\n",
    "model.add(Dropout(dropout))\n",
    "\n",
    "## using GRU as the RNN model along with softmax as our last layer.\n",
    "model.add(GRU(64, return_sequences=False))\n",
    "model.add(Dropout(dropout))\n",
    "\n",
    "model.add(Dense(nb_classes, activation='softmax')) # using Softmax as last layer\n",
    "\n",
    "## Build model\n",
    "# Definition buildmodel(model,epochsize,batchsize, optimiser, lr)\n",
    "model3 = buildmodel(model,num_epochs,batch_size,\"Adam\",0.001)"
   ]
  },
  {
   "cell_type": "markdown",
   "metadata": {},
   "source": [
    "### Model4 - Conv2D layers + LSTM Layer +  dropout  + L2 regularization"
   ]
  },
  {
   "cell_type": "code",
   "execution_count": 28,
   "metadata": {},
   "outputs": [
    {
     "name": "stdout",
     "output_type": "stream",
     "text": [
      "_________________________________________________________________\n",
      "Layer (type)                 Output Shape              Param #   \n",
      "=================================================================\n",
      "time_distributed_40 (TimeDis (None, 15, 60, 60, 16)    448       \n",
      "_________________________________________________________________\n",
      "time_distributed_41 (TimeDis (None, 15, 60, 60, 16)    64        \n",
      "_________________________________________________________________\n",
      "time_distributed_42 (TimeDis (None, 15, 30, 30, 16)    0         \n",
      "_________________________________________________________________\n",
      "dropout_69 (Dropout)         (None, 15, 30, 30, 16)    0         \n",
      "_________________________________________________________________\n",
      "time_distributed_43 (TimeDis (None, 15, 30, 30, 32)    4640      \n",
      "_________________________________________________________________\n",
      "time_distributed_44 (TimeDis (None, 15, 30, 30, 32)    128       \n",
      "_________________________________________________________________\n",
      "time_distributed_45 (TimeDis (None, 15, 15, 15, 32)    0         \n",
      "_________________________________________________________________\n",
      "dropout_70 (Dropout)         (None, 15, 15, 15, 32)    0         \n",
      "_________________________________________________________________\n",
      "time_distributed_46 (TimeDis (None, 15, 15, 15, 64)    18496     \n",
      "_________________________________________________________________\n",
      "time_distributed_47 (TimeDis (None, 15, 15, 15, 64)    256       \n",
      "_________________________________________________________________\n",
      "time_distributed_48 (TimeDis (None, 15, 7, 7, 64)      0         \n",
      "_________________________________________________________________\n",
      "dropout_71 (Dropout)         (None, 15, 7, 7, 64)      0         \n",
      "_________________________________________________________________\n",
      "time_distributed_49 (TimeDis (None, 15, 7, 7, 128)     32896     \n",
      "_________________________________________________________________\n",
      "time_distributed_50 (TimeDis (None, 15, 7, 7, 128)     512       \n",
      "_________________________________________________________________\n",
      "time_distributed_51 (TimeDis (None, 15, 3, 3, 128)     0         \n",
      "_________________________________________________________________\n",
      "dropout_72 (Dropout)         (None, 15, 3, 3, 128)     0         \n",
      "_________________________________________________________________\n",
      "time_distributed_52 (TimeDis (None, 15, 1152)          0         \n",
      "_________________________________________________________________\n",
      "dense_34 (Dense)             (None, 15, 128)           147584    \n",
      "_________________________________________________________________\n",
      "dense_35 (Dense)             (None, 15, 64)            8256      \n",
      "_________________________________________________________________\n",
      "dense_36 (Dense)             (None, 15, 32)            2080      \n",
      "_________________________________________________________________\n",
      "dropout_73 (Dropout)         (None, 15, 32)            0         \n",
      "_________________________________________________________________\n",
      "lstm_1 (LSTM)                (None, 64)                24832     \n",
      "_________________________________________________________________\n",
      "dropout_74 (Dropout)         (None, 64)                0         \n",
      "_________________________________________________________________\n",
      "dense_37 (Dense)             (None, 5)                 325       \n",
      "=================================================================\n",
      "Total params: 240,517\n",
      "Trainable params: 240,037\n",
      "Non-trainable params: 480\n",
      "_________________________________________________________________\n",
      "None\n",
      "Source path =  val/ ; batch size = 10\n",
      "Source path =  train/ ; batch size = 10\n",
      "Epoch 1/10\n"
     ]
    },
    {
     "name": "stderr",
     "output_type": "stream",
     "text": [
      "/mnt/disks/user/anaconda3/lib/python3.6/site-packages/ipykernel_launcher.py:20: DeprecationWarning: `imread` is deprecated!\n",
      "`imread` is deprecated in SciPy 1.0.0, and will be removed in 1.2.0.\n",
      "Use ``imageio.imread`` instead.\n",
      "/mnt/disks/user/anaconda3/lib/python3.6/site-packages/skimage/transform/_warps.py:110: UserWarning: Anti-aliasing will be enabled by default in skimage 0.15 to avoid aliasing artifacts when down-sampling images.\n",
      "  warn(\"Anti-aliasing will be enabled by default in skimage 0.15 to \"\n"
     ]
    },
    {
     "name": "stdout",
     "output_type": "stream",
     "text": [
      "66/67 [============================>.] - ETA: 0s - loss: 4.1264 - categorical_accuracy: 0.4182"
     ]
    },
    {
     "name": "stderr",
     "output_type": "stream",
     "text": [
      "/mnt/disks/user/anaconda3/lib/python3.6/site-packages/ipykernel_launcher.py:44: DeprecationWarning: `imread` is deprecated!\n",
      "`imread` is deprecated in SciPy 1.0.0, and will be removed in 1.2.0.\n",
      "Use ``imageio.imread`` instead.\n"
     ]
    },
    {
     "name": "stdout",
     "output_type": "stream",
     "text": [
      "67/67 [==============================] - 63s 936ms/step - loss: 4.1280 - categorical_accuracy: 0.4164 - val_loss: 3.1867 - val_categorical_accuracy: 0.5100\n",
      "\n",
      "Epoch 00001: saving model to model_init_2021-02-0514_23_30.215137/model-00001-4.12795-0.41642-3.18672-0.51000.h5\n",
      "Epoch 2/10\n",
      "67/67 [==============================] - 51s 756ms/step - loss: 2.8988 - categorical_accuracy: 0.4716 - val_loss: 2.5001 - val_categorical_accuracy: 0.4600\n",
      "\n",
      "Epoch 00002: saving model to model_init_2021-02-0514_23_30.215137/model-00002-2.89882-0.47164-2.50007-0.46000.h5\n",
      "Epoch 3/10\n",
      "67/67 [==============================] - 67s 998ms/step - loss: 2.2279 - categorical_accuracy: 0.5104 - val_loss: 2.3522 - val_categorical_accuracy: 0.4100\n",
      "\n",
      "Epoch 00003: saving model to model_init_2021-02-0514_23_30.215137/model-00003-2.22788-0.51045-2.35216-0.41000.h5\n",
      "Epoch 4/10\n",
      "67/67 [==============================] - 59s 879ms/step - loss: 1.8439 - categorical_accuracy: 0.5657 - val_loss: 1.8851 - val_categorical_accuracy: 0.5400\n",
      "\n",
      "Epoch 00004: saving model to model_init_2021-02-0514_23_30.215137/model-00004-1.84393-0.56567-1.88513-0.54000.h5\n",
      "Epoch 5/10\n",
      "67/67 [==============================] - 58s 862ms/step - loss: 1.5939 - categorical_accuracy: 0.6075 - val_loss: 2.0636 - val_categorical_accuracy: 0.4200\n",
      "\n",
      "Epoch 00005: saving model to model_init_2021-02-0514_23_30.215137/model-00005-1.59394-0.60746-2.06360-0.42000.h5\n",
      "Epoch 6/10\n",
      "67/67 [==============================] - 67s 996ms/step - loss: 1.3263 - categorical_accuracy: 0.7119 - val_loss: 1.6642 - val_categorical_accuracy: 0.5600\n",
      "\n",
      "Epoch 00006: saving model to model_init_2021-02-0514_23_30.215137/model-00006-1.32634-0.71194-1.66423-0.56000.h5\n",
      "Epoch 7/10\n",
      "67/67 [==============================] - 57s 854ms/step - loss: 1.2212 - categorical_accuracy: 0.7045 - val_loss: 1.9691 - val_categorical_accuracy: 0.4800\n",
      "\n",
      "Epoch 00007: saving model to model_init_2021-02-0514_23_30.215137/model-00007-1.22119-0.70448-1.96908-0.48000.h5\n",
      "Epoch 8/10\n",
      "67/67 [==============================] - 57s 856ms/step - loss: 1.1370 - categorical_accuracy: 0.7299 - val_loss: 1.4808 - val_categorical_accuracy: 0.5900\n",
      "\n",
      "Epoch 00008: saving model to model_init_2021-02-0514_23_30.215137/model-00008-1.13703-0.72985-1.48078-0.59000.h5\n",
      "Epoch 9/10\n",
      "67/67 [==============================] - 57s 846ms/step - loss: 1.0369 - categorical_accuracy: 0.7582 - val_loss: 1.1179 - val_categorical_accuracy: 0.6800\n",
      "\n",
      "Epoch 00009: saving model to model_init_2021-02-0514_23_30.215137/model-00009-1.03686-0.75821-1.11793-0.68000.h5\n",
      "Epoch 10/10\n",
      "67/67 [==============================] - 60s 894ms/step - loss: 0.9517 - categorical_accuracy: 0.7776 - val_loss: 1.1222 - val_categorical_accuracy: 0.7200\n",
      "\n",
      "Epoch 00010: saving model to model_init_2021-02-0514_23_30.215137/model-00010-0.95169-0.77761-1.12217-0.72000.h5\n"
     ]
    },
    {
     "data": {
      "image/png": "[encoded data removed]",
      "text/plain": [
       "<Figure size 432x288 with 1 Axes>"
      ]
     },
     "metadata": {},
     "output_type": "display_data"
    },
    {
     "data": {
      "image/png": "[encoded data removed]",
      "text/plain": [
       "<Figure size 432x288 with 1 Axes>"
      ]
     },
     "metadata": {},
     "output_type": "display_data"
    }
   ],
   "source": [
    "# Model4\n",
    "\n",
    "# Features\n",
    "batch_size = 10 #experiment with the batch size\n",
    "num_epochs = 10 # choose the number of epochs\n",
    "\n",
    "nb_featuremap = [16,32,64,128,256]\n",
    "nb_dense = [128,64,32,5]\n",
    "dropout = 0.25\n",
    "nb_classes = 5\n",
    "frames = 15\n",
    "\n",
    "# Input\n",
    "input_shape=(frames,120,120,3)\n",
    "\n",
    "model = Sequential()\n",
    "\n",
    "model.add(TimeDistributed(Conv2D(nb_featuremap[0], (3, 3), strides=(2, 2),activation='relu', padding='same'), input_shape=input_shape))\n",
    "model.add(TimeDistributed(BatchNormalization()))\n",
    "model.add(TimeDistributed(MaxPooling2D((2, 2), strides=(2, 2))))\n",
    "model.add(Dropout(dropout))\n",
    "\n",
    "model.add(TimeDistributed(Conv2D(nb_featuremap[1], (3,3),padding='same', activation='relu')))\n",
    "model.add(TimeDistributed(BatchNormalization()))\n",
    "model.add(TimeDistributed(MaxPooling2D((2, 2), strides=(2, 2))))\n",
    "model.add(Dropout(dropout))\n",
    "\n",
    "model.add(TimeDistributed(Conv2D(nb_featuremap[2], (3,3),padding='same', activation='relu')))\n",
    "model.add(TimeDistributed(BatchNormalization()))\n",
    "model.add(TimeDistributed(MaxPooling2D((2, 2), strides=(2, 2))))\n",
    "model.add(Dropout(dropout))\n",
    "\n",
    "model.add(TimeDistributed(Conv2D(nb_featuremap[3], (2,2),padding='same', activation='relu')))\n",
    "model.add(TimeDistributed(BatchNormalization()))\n",
    "model.add(TimeDistributed(MaxPooling2D((2, 2), strides=(2, 2))))\n",
    "model.add(Dropout(dropout))\n",
    "\n",
    "model.add(TimeDistributed(Flatten()))\n",
    "\n",
    "model.add(Dense(nb_dense[0], activation='relu', kernel_regularizer=regularizers.l2(0.01)))\n",
    "model.add(Dense(nb_dense[1], activation='relu', kernel_regularizer=regularizers.l2(0.01)))\n",
    "model.add(Dense(nb_dense[2], activation='relu', kernel_regularizer=regularizers.l2(0.01)))\n",
    "model.add(Dropout(dropout))\n",
    "\n",
    "## using LSTM as the RNN model along with softmax as our last layer.\n",
    "model.add(LSTM(64, return_sequences=False))\n",
    "model.add(Dropout(dropout))\n",
    "\n",
    "model.add(Dense(nb_classes, activation='softmax')) # using Softmax as last layer\n",
    "\n",
    "## Build model\n",
    "# Definition buildmodel(model,epochsize,batchsize, optimiser, lr)\n",
    "model4 = buildmodel(model,num_epochs,batch_size,\"Adam\",0.001)"
   ]
  },
  {
   "cell_type": "markdown",
   "metadata": {},
   "source": [
    "### Model5 - Transfer Learning + RestNet50 + GRU Layer "
   ]
  },
  {
   "cell_type": "code",
   "execution_count": 30,
   "metadata": {},
   "outputs": [
    {
     "name": "stderr",
     "output_type": "stream",
     "text": [
      "/mnt/disks/user/anaconda3/lib/python3.6/site-packages/keras_applications/resnet50.py:263: UserWarning: The output shape of `ResNet50(include_top=False)` has been changed since Keras 2.2.0.\n",
      "  warnings.warn('The output shape of `ResNet50(include_top=False)` '\n"
     ]
    },
    {
     "name": "stdout",
     "output_type": "stream",
     "text": [
      "Downloading data from https://github.com/fchollet/deep-learning-models/releases/download/v0.2/resnet50_weights_tf_dim_ordering_tf_kernels_notop.h5\n",
      "94658560/94653016 [==============================] - 5s 0us/step\n",
      "_________________________________________________________________\n",
      "Layer (type)                 Output Shape              Param #   \n",
      "=================================================================\n",
      "time_distributed_53 (TimeDis (None, 15, 4, 4, 2048)    23587712  \n",
      "_________________________________________________________________\n",
      "time_distributed_54 (TimeDis (None, 15, 4, 4, 2048)    8192      \n",
      "_________________________________________________________________\n",
      "time_distributed_55 (TimeDis (None, 15, 2, 2, 2048)    0         \n",
      "_________________________________________________________________\n",
      "time_distributed_56 (TimeDis (None, 15, 8192)          0         \n",
      "_________________________________________________________________\n",
      "gru_4 (GRU)                  (None, 64)                1585344   \n",
      "_________________________________________________________________\n",
      "dropout_75 (Dropout)         (None, 64)                0         \n",
      "_________________________________________________________________\n",
      "dense_38 (Dense)             (None, 64)                4160      \n",
      "_________________________________________________________________\n",
      "dropout_76 (Dropout)         (None, 64)                0         \n",
      "_________________________________________________________________\n",
      "dense_39 (Dense)             (None, 5)                 325       \n",
      "=================================================================\n",
      "Total params: 25,185,733\n",
      "Trainable params: 25,128,517\n",
      "Non-trainable params: 57,216\n",
      "_________________________________________________________________\n",
      "None\n",
      "Source path =  val/ ; batch size = 10\n",
      "Source path =  train/ ; batch size = 10\n",
      "Epoch 1/10\n"
     ]
    },
    {
     "name": "stderr",
     "output_type": "stream",
     "text": [
      "/mnt/disks/user/anaconda3/lib/python3.6/site-packages/ipykernel_launcher.py:20: DeprecationWarning: `imread` is deprecated!\n",
      "`imread` is deprecated in SciPy 1.0.0, and will be removed in 1.2.0.\n",
      "Use ``imageio.imread`` instead.\n",
      "/mnt/disks/user/anaconda3/lib/python3.6/site-packages/skimage/transform/_warps.py:110: UserWarning: Anti-aliasing will be enabled by default in skimage 0.15 to avoid aliasing artifacts when down-sampling images.\n",
      "  warn(\"Anti-aliasing will be enabled by default in skimage 0.15 to \"\n"
     ]
    },
    {
     "name": "stdout",
     "output_type": "stream",
     "text": [
      "56/67 [========================>.....] - ETA: 20s - loss: 1.6933 - categorical_accuracy: 0.2321"
     ]
    },
    {
     "name": "stderr",
     "output_type": "stream",
     "text": [
      "/mnt/disks/user/anaconda3/lib/python3.6/site-packages/ipykernel_launcher.py:44: DeprecationWarning: `imread` is deprecated!\n",
      "`imread` is deprecated in SciPy 1.0.0, and will be removed in 1.2.0.\n",
      "Use ``imageio.imread`` instead.\n"
     ]
    },
    {
     "name": "stdout",
     "output_type": "stream",
     "text": [
      "67/67 [==============================] - 122s 2s/step - loss: 1.7006 - categorical_accuracy: 0.2299 - val_loss: 1.6001 - val_categorical_accuracy: 0.2400\n",
      "\n",
      "Epoch 00001: saving model to model_init_2021-02-0514_23_30.215137/model-00001-1.70057-0.22985-1.60008-0.24000.h5\n",
      "Epoch 2/10\n",
      "67/67 [==============================] - 88s 1s/step - loss: 1.6269 - categorical_accuracy: 0.2776 - val_loss: 1.6217 - val_categorical_accuracy: 0.2300\n",
      "\n",
      "Epoch 00002: saving model to model_init_2021-02-0514_23_30.215137/model-00002-1.62686-0.27761-1.62171-0.23000.h5\n",
      "Epoch 3/10\n",
      "67/67 [==============================] - 88s 1s/step - loss: 1.5750 - categorical_accuracy: 0.3269 - val_loss: 1.6229 - val_categorical_accuracy: 0.2300\n",
      "\n",
      "Epoch 00003: saving model to model_init_2021-02-0514_23_30.215137/model-00003-1.57498-0.32687-1.62285-0.23000.h5\n",
      "Epoch 4/10\n",
      "67/67 [==============================] - 88s 1s/step - loss: 1.5326 - categorical_accuracy: 0.3448 - val_loss: 1.6837 - val_categorical_accuracy: 0.2400\n",
      "\n",
      "Epoch 00004: saving model to model_init_2021-02-0514_23_30.215137/model-00004-1.53260-0.34478-1.68373-0.24000.h5\n",
      "Epoch 5/10\n",
      "67/67 [==============================] - 88s 1s/step - loss: 1.4936 - categorical_accuracy: 0.3418 - val_loss: 1.7402 - val_categorical_accuracy: 0.2500\n",
      "\n",
      "Epoch 00005: saving model to model_init_2021-02-0514_23_30.215137/model-00005-1.49365-0.34179-1.74024-0.25000.h5\n",
      "Epoch 6/10\n",
      "67/67 [==============================] - 88s 1s/step - loss: 1.4807 - categorical_accuracy: 0.3493 - val_loss: 1.7443 - val_categorical_accuracy: 0.2500\n",
      "\n",
      "Epoch 00006: saving model to model_init_2021-02-0514_23_30.215137/model-00006-1.48068-0.34925-1.74426-0.25000.h5\n",
      "\n",
      "Epoch 00006: ReduceLROnPlateau reducing learning rate to 1.0000000474974514e-05.\n",
      "Epoch 7/10\n",
      "67/67 [==============================] - 88s 1s/step - loss: 1.5541 - categorical_accuracy: 0.3358 - val_loss: 1.5336 - val_categorical_accuracy: 0.4000\n",
      "\n",
      "Epoch 00007: saving model to model_init_2021-02-0514_23_30.215137/model-00007-1.55415-0.33582-1.53364-0.40000.h5\n",
      "Epoch 8/10\n",
      "67/67 [==============================] - 88s 1s/step - loss: 1.5230 - categorical_accuracy: 0.3657 - val_loss: 1.4714 - val_categorical_accuracy: 0.4000\n",
      "\n",
      "Epoch 00008: saving model to model_init_2021-02-0514_23_30.215137/model-00008-1.52296-0.36567-1.47141-0.40000.h5\n",
      "Epoch 9/10\n",
      "67/67 [==============================] - 88s 1s/step - loss: 1.4805 - categorical_accuracy: 0.3493 - val_loss: 1.4484 - val_categorical_accuracy: 0.3500\n",
      "\n",
      "Epoch 00009: saving model to model_init_2021-02-0514_23_30.215137/model-00009-1.48049-0.34925-1.44841-0.35000.h5\n",
      "Epoch 10/10\n",
      "67/67 [==============================] - 88s 1s/step - loss: 1.4958 - categorical_accuracy: 0.3448 - val_loss: 1.4318 - val_categorical_accuracy: 0.3800\n",
      "\n",
      "Epoch 00010: saving model to model_init_2021-02-0514_23_30.215137/model-00010-1.49576-0.34478-1.43185-0.38000.h5\n"
     ]
    },
    {
     "data": {
      "image/png": "[encoded data removed]",
      "text/plain": [
       "<Figure size 432x288 with 1 Axes>"
      ]
     },
     "metadata": {},
     "output_type": "display_data"
    },
    {
     "data": {
      "image/png": "[encoded data removed]",
      "text/plain": [
       "<Figure size 432x288 with 1 Axes>"
      ]
     },
     "metadata": {},
     "output_type": "display_data"
    }
   ],
   "source": [
    " #Model5\n",
    "\n",
    "# Libraries for ResNet\n",
    "from keras.applications import ResNet50\n",
    "from keras.applications.resnet50 import preprocess_input\n",
    "from keras.layers import Dense, GlobalAveragePooling2D, GRU\n",
    "from keras.models import Model, load_model\n",
    "\n",
    "batch_size = 10 #experiment with the batch size\n",
    "num_epochs = 10 # choose the number of epochs\n",
    "\n",
    "nb_featuremap = [16,32,64,128,256]\n",
    "nb_dense = [128,64,32,5]\n",
    "dropout = 0.25\n",
    "nb_classes = 5\n",
    "frames = 15\n",
    "\n",
    "# Input\n",
    "input_shape=(frames,120,120,3)\n",
    "\n",
    "# Get base model: ResNet50 \n",
    "base_model = ResNet50(weights='imagenet', include_top=False)\n",
    "\n",
    "model = Sequential()\n",
    "model.add(TimeDistributed(base_model,input_shape=input_shape))\n",
    "\n",
    "model.add(TimeDistributed(BatchNormalization()))\n",
    "model.add(TimeDistributed(MaxPooling2D((2, 2))))\n",
    "model.add(TimeDistributed(Flatten()))\n",
    "\n",
    "model.add(GRU(64, return_sequences=False))\n",
    "model.add(Dropout(dropout))\n",
    "\n",
    "model.add(Dense(nb_dense[1],activation='relu'))\n",
    "model.add(Dropout(dropout))\n",
    "\n",
    "\n",
    "model.add(Dense(nb_classes, activation='softmax')) # using Softmax as last layer\n",
    "\n",
    "## Build model\n",
    "# Definition buildmodel(model,epochsize,batchsize, optimiser, lr)\n",
    "model5 = buildmodel(model,num_epochs,batch_size,\"Adam\",0.001)"
   ]
  },
  {
   "cell_type": "markdown",
   "metadata": {},
   "source": [
    "### Model6 - Transfer Learning + mobilenet + GRU Layer "
   ]
  },
  {
   "cell_type": "code",
   "execution_count": 31,
   "metadata": {},
   "outputs": [
    {
     "name": "stderr",
     "output_type": "stream",
     "text": [
      "/mnt/disks/user/anaconda3/lib/python3.6/site-packages/keras_applications/mobilenet.py:206: UserWarning: MobileNet shape is undefined. Weights for input shape (224, 224) will be loaded.\n",
      "  warnings.warn('MobileNet shape is undefined.'\n"
     ]
    },
    {
     "name": "stdout",
     "output_type": "stream",
     "text": [
      "Downloading data from https://github.com/fchollet/deep-learning-models/releases/download/v0.6/mobilenet_1_0_224_tf_no_top.h5\n",
      "17227776/17225924 [==============================] - 1s 0us/step\n",
      "_________________________________________________________________\n",
      "Layer (type)                 Output Shape              Param #   \n",
      "=================================================================\n",
      "time_distributed_57 (TimeDis (None, 15, 3, 3, 1024)    3228864   \n",
      "_________________________________________________________________\n",
      "time_distributed_58 (TimeDis (None, 15, 3, 3, 1024)    4096      \n",
      "_________________________________________________________________\n",
      "time_distributed_59 (TimeDis (None, 15, 1, 1, 1024)    0         \n",
      "_________________________________________________________________\n",
      "time_distributed_60 (TimeDis (None, 15, 1024)          0         \n",
      "_________________________________________________________________\n",
      "gru_5 (GRU)                  (None, 64)                209088    \n",
      "_________________________________________________________________\n",
      "dropout_77 (Dropout)         (None, 64)                0         \n",
      "_________________________________________________________________\n",
      "dense_40 (Dense)             (None, 64)                4160      \n",
      "_________________________________________________________________\n",
      "dropout_78 (Dropout)         (None, 64)                0         \n",
      "_________________________________________________________________\n",
      "dense_41 (Dense)             (None, 5)                 325       \n",
      "=================================================================\n",
      "Total params: 3,446,533\n",
      "Trainable params: 3,422,597\n",
      "Non-trainable params: 23,936\n",
      "_________________________________________________________________\n",
      "None\n",
      "Source path =  val/ ; batch size = 10\n",
      "Source path =  train/ ; batch size = 10\n",
      "Epoch 1/10\n"
     ]
    },
    {
     "name": "stderr",
     "output_type": "stream",
     "text": [
      "/mnt/disks/user/anaconda3/lib/python3.6/site-packages/ipykernel_launcher.py:20: DeprecationWarning: `imread` is deprecated!\n",
      "`imread` is deprecated in SciPy 1.0.0, and will be removed in 1.2.0.\n",
      "Use ``imageio.imread`` instead.\n",
      "/mnt/disks/user/anaconda3/lib/python3.6/site-packages/skimage/transform/_warps.py:110: UserWarning: Anti-aliasing will be enabled by default in skimage 0.15 to avoid aliasing artifacts when down-sampling images.\n",
      "  warn(\"Anti-aliasing will be enabled by default in skimage 0.15 to \"\n"
     ]
    },
    {
     "name": "stdout",
     "output_type": "stream",
     "text": [
      "65/67 [============================>.] - ETA: 2s - loss: 1.2803 - categorical_accuracy: 0.4585"
     ]
    },
    {
     "name": "stderr",
     "output_type": "stream",
     "text": [
      "/mnt/disks/user/anaconda3/lib/python3.6/site-packages/ipykernel_launcher.py:44: DeprecationWarning: `imread` is deprecated!\n",
      "`imread` is deprecated in SciPy 1.0.0, and will be removed in 1.2.0.\n",
      "Use ``imageio.imread`` instead.\n"
     ]
    },
    {
     "name": "stdout",
     "output_type": "stream",
     "text": [
      "67/67 [==============================] - 72s 1s/step - loss: 1.2858 - categorical_accuracy: 0.4627 - val_loss: 0.9835 - val_categorical_accuracy: 0.6200\n",
      "\n",
      "Epoch 00001: saving model to model_init_2021-02-0514_23_30.215137/model-00001-1.28583-0.46269-0.98353-0.62000.h5\n",
      "Epoch 2/10\n",
      "67/67 [==============================] - 52s 779ms/step - loss: 0.7063 - categorical_accuracy: 0.7209 - val_loss: 0.5718 - val_categorical_accuracy: 0.7700\n",
      "\n",
      "Epoch 00002: saving model to model_init_2021-02-0514_23_30.215137/model-00002-0.70628-0.72090-0.57176-0.77000.h5\n",
      "Epoch 3/10\n",
      "67/67 [==============================] - 63s 947ms/step - loss: 0.4562 - categorical_accuracy: 0.8313 - val_loss: 0.4400 - val_categorical_accuracy: 0.8900\n",
      "\n",
      "Epoch 00003: saving model to model_init_2021-02-0514_23_30.215137/model-00003-0.45623-0.83134-0.44004-0.89000.h5\n",
      "Epoch 4/10\n",
      "67/67 [==============================] - 66s 987ms/step - loss: 0.4143 - categorical_accuracy: 0.8597 - val_loss: 0.3321 - val_categorical_accuracy: 0.8200\n",
      "\n",
      "Epoch 00004: saving model to model_init_2021-02-0514_23_30.215137/model-00004-0.41430-0.85970-0.33212-0.82000.h5\n",
      "Epoch 5/10\n",
      "67/67 [==============================] - 65s 970ms/step - loss: 0.3642 - categorical_accuracy: 0.8776 - val_loss: 0.6398 - val_categorical_accuracy: 0.8100\n",
      "\n",
      "Epoch 00005: saving model to model_init_2021-02-0514_23_30.215137/model-00005-0.36420-0.87761-0.63982-0.81000.h5\n",
      "Epoch 6/10\n",
      "67/67 [==============================] - 64s 958ms/step - loss: 0.4686 - categorical_accuracy: 0.8522 - val_loss: 0.6751 - val_categorical_accuracy: 0.7100\n",
      "\n",
      "Epoch 00006: saving model to model_init_2021-02-0514_23_30.215137/model-00006-0.46859-0.85224-0.67510-0.71000.h5\n",
      "Epoch 7/10\n",
      "67/67 [==============================] - 63s 944ms/step - loss: 0.4240 - categorical_accuracy: 0.8746 - val_loss: 0.3217 - val_categorical_accuracy: 0.8900\n",
      "\n",
      "Epoch 00007: saving model to model_init_2021-02-0514_23_30.215137/model-00007-0.42400-0.87463-0.32166-0.89000.h5\n",
      "Epoch 8/10\n",
      "67/67 [==============================] - 65s 964ms/step - loss: 0.3203 - categorical_accuracy: 0.9075 - val_loss: 0.5108 - val_categorical_accuracy: 0.8600\n",
      "\n",
      "Epoch 00008: saving model to model_init_2021-02-0514_23_30.215137/model-00008-0.32031-0.90746-0.51078-0.86000.h5\n",
      "Epoch 9/10\n",
      "67/67 [==============================] - 62s 924ms/step - loss: 0.2818 - categorical_accuracy: 0.9164 - val_loss: 0.9806 - val_categorical_accuracy: 0.7000\n",
      "\n",
      "Epoch 00009: saving model to model_init_2021-02-0514_23_30.215137/model-00009-0.28178-0.91642-0.98058-0.70000.h5\n",
      "Epoch 10/10\n",
      "67/67 [==============================] - 62s 919ms/step - loss: 0.2816 - categorical_accuracy: 0.9164 - val_loss: 0.4161 - val_categorical_accuracy: 0.8300\n",
      "\n",
      "Epoch 00010: saving model to model_init_2021-02-0514_23_30.215137/model-00010-0.28160-0.91642-0.41610-0.83000.h5\n"
     ]
    },
    {
     "data": {
      "image/png": "[encoded data removed]",
      "text/plain": [
       "<Figure size 432x288 with 1 Axes>"
      ]
     },
     "metadata": {},
     "output_type": "display_data"
    },
    {
     "data": {
      "image/png": "[encoded data removed]",
      "text/plain": [
       "<Figure size 432x288 with 1 Axes>"
      ]
     },
     "metadata": {},
     "output_type": "display_data"
    }
   ],
   "source": [
    "# Libraries for mobilenet\n",
    "from keras.applications import ResNet50, mobilenet\n",
    "from keras.applications.resnet50 import preprocess_input\n",
    "from keras.layers import Dense, GlobalAveragePooling2D, GRU\n",
    "from keras.models import Model, load_model\n",
    "\n",
    "batch_size = 10 #experiment with the batch size\n",
    "num_epochs = 10 # choose the number of epochs\n",
    "\n",
    "nb_featuremap = [16,32,64,128,256]\n",
    "nb_dense = [128,64,32,5]\n",
    "dropout = 0.25\n",
    "nb_classes = 5\n",
    "frames = 15\n",
    "\n",
    "# Input\n",
    "input_shape=(frames,120,120,3)\n",
    "\n",
    "# Get base model: mobilenet \n",
    "base_model = mobilenet.MobileNet(weights='imagenet', include_top=False)\n",
    "\n",
    "model = Sequential()\n",
    "model.add(TimeDistributed(base_model,input_shape=input_shape))\n",
    "\n",
    "model.add(TimeDistributed(BatchNormalization()))\n",
    "model.add(TimeDistributed(MaxPooling2D((2, 2))))\n",
    "model.add(TimeDistributed(Flatten()))\n",
    "\n",
    "model.add(GRU(64, return_sequences=False))\n",
    "model.add(Dropout(dropout))\n",
    "\n",
    "model.add(Dense(nb_dense[1],activation='relu'))\n",
    "model.add(Dropout(dropout))\n",
    "\n",
    "\n",
    "model.add(Dense(nb_classes, activation='softmax')) # using Softmax as last layer\n",
    "\n",
    "## Build model\n",
    "# Definition buildmodel(model,epochsize,batchsize, optimiser, lr)\n",
    "model6 = buildmodel(model,num_epochs,batch_size,\"Adam\",0.001)"
   ]
  },
  {
   "cell_type": "markdown",
   "metadata": {},
   "source": [
    "### Model7 - Transfer Learning + mobilenet + GRU Layer  + Increased epoch"
   ]
  },
  {
   "cell_type": "code",
   "execution_count": 32,
   "metadata": {},
   "outputs": [
    {
     "name": "stderr",
     "output_type": "stream",
     "text": [
      "/mnt/disks/user/anaconda3/lib/python3.6/site-packages/keras_applications/mobilenet.py:206: UserWarning: MobileNet shape is undefined. Weights for input shape (224, 224) will be loaded.\n",
      "  warnings.warn('MobileNet shape is undefined.'\n"
     ]
    },
    {
     "name": "stdout",
     "output_type": "stream",
     "text": [
      "_________________________________________________________________\n",
      "Layer (type)                 Output Shape              Param #   \n",
      "=================================================================\n",
      "time_distributed_61 (TimeDis (None, 15, 3, 3, 1024)    3228864   \n",
      "_________________________________________________________________\n",
      "time_distributed_62 (TimeDis (None, 15, 3, 3, 1024)    4096      \n",
      "_________________________________________________________________\n",
      "time_distributed_63 (TimeDis (None, 15, 1, 1, 1024)    0         \n",
      "_________________________________________________________________\n",
      "time_distributed_64 (TimeDis (None, 15, 1024)          0         \n",
      "_________________________________________________________________\n",
      "gru_6 (GRU)                  (None, 64)                209088    \n",
      "_________________________________________________________________\n",
      "dropout_79 (Dropout)         (None, 64)                0         \n",
      "_________________________________________________________________\n",
      "dense_42 (Dense)             (None, 64)                4160      \n",
      "_________________________________________________________________\n",
      "dropout_80 (Dropout)         (None, 64)                0         \n",
      "_________________________________________________________________\n",
      "dense_43 (Dense)             (None, 5)                 325       \n",
      "=================================================================\n",
      "Total params: 3,446,533\n",
      "Trainable params: 3,422,597\n",
      "Non-trainable params: 23,936\n",
      "_________________________________________________________________\n",
      "None\n",
      "Source path = Source path =  train/ ; batch size = 10\n",
      "Epoch 1/15 val/ ; batch size = 10\n",
      "\n"
     ]
    },
    {
     "name": "stderr",
     "output_type": "stream",
     "text": [
      "/mnt/disks/user/anaconda3/lib/python3.6/site-packages/ipykernel_launcher.py:20: DeprecationWarning: `imread` is deprecated!\n",
      "`imread` is deprecated in SciPy 1.0.0, and will be removed in 1.2.0.\n",
      "Use ``imageio.imread`` instead.\n",
      "/mnt/disks/user/anaconda3/lib/python3.6/site-packages/skimage/transform/_warps.py:110: UserWarning: Anti-aliasing will be enabled by default in skimage 0.15 to avoid aliasing artifacts when down-sampling images.\n",
      "  warn(\"Anti-aliasing will be enabled by default in skimage 0.15 to \"\n"
     ]
    },
    {
     "name": "stdout",
     "output_type": "stream",
     "text": [
      "65/67 [============================>.] - ETA: 2s - loss: 1.3356 - categorical_accuracy: 0.4292"
     ]
    },
    {
     "name": "stderr",
     "output_type": "stream",
     "text": [
      "/mnt/disks/user/anaconda3/lib/python3.6/site-packages/ipykernel_launcher.py:44: DeprecationWarning: `imread` is deprecated!\n",
      "`imread` is deprecated in SciPy 1.0.0, and will be removed in 1.2.0.\n",
      "Use ``imageio.imread`` instead.\n"
     ]
    },
    {
     "name": "stdout",
     "output_type": "stream",
     "text": [
      "67/67 [==============================] - 77s 1s/step - loss: 1.3264 - categorical_accuracy: 0.4358 - val_loss: 0.8697 - val_categorical_accuracy: 0.6500\n",
      "\n",
      "Epoch 00001: saving model to model_init_2021-02-0514_23_30.215137/model-00001-1.32642-0.43582-0.86973-0.65000.h5\n",
      "Epoch 2/15\n",
      "67/67 [==============================] - 55s 821ms/step - loss: 0.7056 - categorical_accuracy: 0.7567 - val_loss: 0.5456 - val_categorical_accuracy: 0.7500\n",
      "\n",
      "Epoch 00002: saving model to model_init_2021-02-0514_23_30.215137/model-00002-0.70562-0.75672-0.54564-0.75000.h5\n",
      "Epoch 3/15\n",
      "67/67 [==============================] - 63s 936ms/step - loss: 0.5074 - categorical_accuracy: 0.8373 - val_loss: 0.5019 - val_categorical_accuracy: 0.7700\n",
      "\n",
      "Epoch 00003: saving model to model_init_2021-02-0514_23_30.215137/model-00003-0.50735-0.83731-0.50192-0.77000.h5\n",
      "Epoch 4/15\n",
      "67/67 [==============================] - 63s 945ms/step - loss: 0.4982 - categorical_accuracy: 0.8254 - val_loss: 0.7157 - val_categorical_accuracy: 0.7200\n",
      "\n",
      "Epoch 00004: saving model to model_init_2021-02-0514_23_30.215137/model-00004-0.49820-0.82537-0.71569-0.72000.h5\n",
      "Epoch 5/15\n",
      "67/67 [==============================] - 60s 898ms/step - loss: 0.3115 - categorical_accuracy: 0.9179 - val_loss: 0.7364 - val_categorical_accuracy: 0.7800\n",
      "\n",
      "Epoch 00005: saving model to model_init_2021-02-0514_23_30.215137/model-00005-0.31149-0.91791-0.73636-0.78000.h5\n",
      "Epoch 6/15\n",
      "67/67 [==============================] - 61s 913ms/step - loss: 0.2487 - categorical_accuracy: 0.9284 - val_loss: 0.4831 - val_categorical_accuracy: 0.8400\n",
      "\n",
      "Epoch 00006: saving model to model_init_2021-02-0514_23_30.215137/model-00006-0.24874-0.92836-0.48311-0.84000.h5\n",
      "Epoch 7/15\n",
      "67/67 [==============================] - 64s 955ms/step - loss: 0.2527 - categorical_accuracy: 0.9313 - val_loss: 0.8577 - val_categorical_accuracy: 0.7100\n",
      "\n",
      "Epoch 00007: saving model to model_init_2021-02-0514_23_30.215137/model-00007-0.25266-0.93134-0.85771-0.71000.h5\n",
      "Epoch 8/15\n",
      "67/67 [==============================] - 66s 982ms/step - loss: 0.2828 - categorical_accuracy: 0.8985 - val_loss: 0.5038 - val_categorical_accuracy: 0.7800\n",
      "\n",
      "Epoch 00008: saving model to model_init_2021-02-0514_23_30.215137/model-00008-0.28283-0.89851-0.50382-0.78000.h5\n",
      "Epoch 9/15\n",
      "67/67 [==============================] - 63s 944ms/step - loss: 0.2953 - categorical_accuracy: 0.9090 - val_loss: 0.4730 - val_categorical_accuracy: 0.8700\n",
      "\n",
      "Epoch 00009: saving model to model_init_2021-02-0514_23_30.215137/model-00009-0.29528-0.90896-0.47297-0.87000.h5\n",
      "Epoch 10/15\n",
      "67/67 [==============================] - 65s 965ms/step - loss: 0.2719 - categorical_accuracy: 0.9239 - val_loss: 0.4755 - val_categorical_accuracy: 0.8800\n",
      "\n",
      "Epoch 00010: saving model to model_init_2021-02-0514_23_30.215137/model-00010-0.27190-0.92388-0.47546-0.88000.h5\n",
      "Epoch 11/15\n",
      "67/67 [==============================] - 64s 949ms/step - loss: 0.2994 - categorical_accuracy: 0.9209 - val_loss: 0.2923 - val_categorical_accuracy: 0.8400\n",
      "\n",
      "Epoch 00011: saving model to model_init_2021-02-0514_23_30.215137/model-00011-0.29939-0.92090-0.29235-0.84000.h5\n",
      "Epoch 12/15\n",
      "67/67 [==============================] - 65s 973ms/step - loss: 0.3431 - categorical_accuracy: 0.8985 - val_loss: 1.1127 - val_categorical_accuracy: 0.5500\n",
      "\n",
      "Epoch 00012: saving model to model_init_2021-02-0514_23_30.215137/model-00012-0.34314-0.89851-1.11267-0.55000.h5\n",
      "Epoch 13/15\n",
      "67/67 [==============================] - 65s 975ms/step - loss: 0.2218 - categorical_accuracy: 0.9373 - val_loss: 0.3743 - val_categorical_accuracy: 0.8500\n",
      "\n",
      "Epoch 00013: saving model to model_init_2021-02-0514_23_30.215137/model-00013-0.22185-0.93731-0.37428-0.85000.h5\n",
      "Epoch 14/15\n",
      "67/67 [==============================] - 65s 974ms/step - loss: 0.2113 - categorical_accuracy: 0.9403 - val_loss: 0.2185 - val_categorical_accuracy: 0.9100\n",
      "\n",
      "Epoch 00014: saving model to model_init_2021-02-0514_23_30.215137/model-00014-0.21135-0.94030-0.21845-0.91000.h5\n",
      "Epoch 15/15\n",
      "67/67 [==============================] - 64s 952ms/step - loss: 0.2059 - categorical_accuracy: 0.9403 - val_loss: 0.2944 - val_categorical_accuracy: 0.8900\n",
      "\n",
      "Epoch 00015: saving model to model_init_2021-02-0514_23_30.215137/model-00015-0.20586-0.94030-0.29439-0.89000.h5\n"
     ]
    },
    {
     "data": {
      "image/png": "[encoded data removed]",
      "text/plain": [
       "<Figure size 432x288 with 1 Axes>"
      ]
     },
     "metadata": {},
     "output_type": "display_data"
    },
    {
     "data": {
      "image/png": "[encoded data removed]",
      "text/plain": [
       "<Figure size 432x288 with 1 Axes>"
      ]
     },
     "metadata": {},
     "output_type": "display_data"
    }
   ],
   "source": [
    "# Libraries for mobilenet\n",
    "from keras.applications import ResNet50, mobilenet\n",
    "from keras.applications.resnet50 import preprocess_input\n",
    "from keras.layers import Dense, GlobalAveragePooling2D, GRU\n",
    "from keras.models import Model, load_model\n",
    "\n",
    "batch_size = 10 #experiment with the batch size\n",
    "num_epochs = 15 # choose the number of epochs\n",
    "\n",
    "nb_featuremap = [16,32,64,128,256]\n",
    "nb_dense = [128,64,32,5]\n",
    "dropout = 0.25\n",
    "nb_classes = 5\n",
    "frames = 15\n",
    "\n",
    "# Input\n",
    "input_shape=(frames,120,120,3)\n",
    "\n",
    "# Get base model: mobilenet \n",
    "base_model = mobilenet.MobileNet(weights='imagenet', include_top=False)\n",
    "\n",
    "model = Sequential()\n",
    "model.add(TimeDistributed(base_model,input_shape=input_shape))\n",
    "\n",
    "model.add(TimeDistributed(BatchNormalization()))\n",
    "model.add(TimeDistributed(MaxPooling2D((2, 2))))\n",
    "model.add(TimeDistributed(Flatten()))\n",
    "\n",
    "model.add(GRU(64, return_sequences=False))\n",
    "model.add(Dropout(dropout))\n",
    "\n",
    "model.add(Dense(nb_dense[1],activation='relu'))\n",
    "model.add(Dropout(dropout))\n",
    "\n",
    "\n",
    "model.add(Dense(nb_classes, activation='softmax')) # using Softmax as last layer\n",
    "\n",
    "## Build model\n",
    "# Definition buildmodel(model,epochsize,batchsize, optimiser, lr)\n",
    "model7 = buildmodel(model,num_epochs,batch_size,\"Adam\",0.001)"
   ]
  },
  {
   "cell_type": "markdown",
   "metadata": {},
   "source": [
    "### Model8 - Transfer Learning + mobilenet + GRU Layer  + Increased epoch + Increase Batch Size"
   ]
  },
  {
   "cell_type": "code",
   "execution_count": 33,
   "metadata": {},
   "outputs": [
    {
     "name": "stderr",
     "output_type": "stream",
     "text": [
      "/mnt/disks/user/anaconda3/lib/python3.6/site-packages/keras_applications/mobilenet.py:206: UserWarning: MobileNet shape is undefined. Weights for input shape (224, 224) will be loaded.\n",
      "  warnings.warn('MobileNet shape is undefined.'\n"
     ]
    },
    {
     "name": "stdout",
     "output_type": "stream",
     "text": [
      "_________________________________________________________________\n",
      "Layer (type)                 Output Shape              Param #   \n",
      "=================================================================\n",
      "time_distributed_65 (TimeDis (None, 15, 3, 3, 1024)    3228864   \n",
      "_________________________________________________________________\n",
      "time_distributed_66 (TimeDis (None, 15, 3, 3, 1024)    4096      \n",
      "_________________________________________________________________\n",
      "time_distributed_67 (TimeDis (None, 15, 1, 1, 1024)    0         \n",
      "_________________________________________________________________\n",
      "time_distributed_68 (TimeDis (None, 15, 1024)          0         \n",
      "_________________________________________________________________\n",
      "gru_7 (GRU)                  (None, 64)                209088    \n",
      "_________________________________________________________________\n",
      "dropout_81 (Dropout)         (None, 64)                0         \n",
      "_________________________________________________________________\n",
      "dense_44 (Dense)             (None, 64)                4160      \n",
      "_________________________________________________________________\n",
      "dropout_82 (Dropout)         (None, 64)                0         \n",
      "_________________________________________________________________\n",
      "dense_45 (Dense)             (None, 5)                 325       \n",
      "=================================================================\n",
      "Total params: 3,446,533\n",
      "Trainable params: 3,422,597\n",
      "Non-trainable params: 23,936\n",
      "_________________________________________________________________\n",
      "None\n",
      "Source path =  val/ ; batch size = 20\n",
      "Source path =  train/ ; batch size = Epoch 1/15\n",
      "20\n"
     ]
    },
    {
     "name": "stderr",
     "output_type": "stream",
     "text": [
      "/mnt/disks/user/anaconda3/lib/python3.6/site-packages/ipykernel_launcher.py:20: DeprecationWarning: `imread` is deprecated!\n",
      "`imread` is deprecated in SciPy 1.0.0, and will be removed in 1.2.0.\n",
      "Use ``imageio.imread`` instead.\n",
      "/mnt/disks/user/anaconda3/lib/python3.6/site-packages/skimage/transform/_warps.py:110: UserWarning: Anti-aliasing will be enabled by default in skimage 0.15 to avoid aliasing artifacts when down-sampling images.\n",
      "  warn(\"Anti-aliasing will be enabled by default in skimage 0.15 to \"\n"
     ]
    },
    {
     "name": "stdout",
     "output_type": "stream",
     "text": [
      "32/34 [===========================>..] - ETA: 4s - loss: 1.3699 - categorical_accuracy: 0.4250"
     ]
    },
    {
     "name": "stderr",
     "output_type": "stream",
     "text": [
      "/mnt/disks/user/anaconda3/lib/python3.6/site-packages/ipykernel_launcher.py:44: DeprecationWarning: `imread` is deprecated!\n",
      "`imread` is deprecated in SciPy 1.0.0, and will be removed in 1.2.0.\n",
      "Use ``imageio.imread`` instead.\n"
     ]
    },
    {
     "name": "stdout",
     "output_type": "stream",
     "text": [
      "34/34 [==============================] - 77s 2s/step - loss: 1.3698 - categorical_accuracy: 0.4338 - val_loss: 0.8415 - val_categorical_accuracy: 0.6800\n",
      "\n",
      "Epoch 00001: saving model to model_init_2021-02-0514_23_30.215137/model-00001-1.36983-0.43382-0.84146-0.68000.h5\n",
      "Epoch 2/15\n",
      "34/34 [==============================] - 51s 1s/step - loss: 0.6475 - categorical_accuracy: 0.7794 - val_loss: 0.7910 - val_categorical_accuracy: 0.6900\n",
      "\n",
      "Epoch 00002: saving model to model_init_2021-02-0514_23_30.215137/model-00002-0.64752-0.77941-0.79097-0.69000.h5\n",
      "Epoch 3/15\n",
      "34/34 [==============================] - 62s 2s/step - loss: 0.3277 - categorical_accuracy: 0.8985 - val_loss: 0.4939 - val_categorical_accuracy: 0.8000\n",
      "\n",
      "Epoch 00003: saving model to model_init_2021-02-0514_23_30.215137/model-00003-0.32769-0.89853-0.49388-0.80000.h5\n",
      "Epoch 4/15\n",
      "34/34 [==============================] - 63s 2s/step - loss: 0.2295 - categorical_accuracy: 0.9397 - val_loss: 0.7350 - val_categorical_accuracy: 0.7400\n",
      "\n",
      "Epoch 00004: saving model to model_init_2021-02-0514_23_30.215137/model-00004-0.22952-0.93971-0.73502-0.74000.h5\n",
      "Epoch 5/15\n",
      "34/34 [==============================] - 63s 2s/step - loss: 0.2839 - categorical_accuracy: 0.9132 - val_loss: 2.1107 - val_categorical_accuracy: 0.4800\n",
      "\n",
      "Epoch 00005: saving model to model_init_2021-02-0514_23_30.215137/model-00005-0.28391-0.91324-2.11065-0.48000.h5\n",
      "Epoch 6/15\n",
      "34/34 [==============================] - 60s 2s/step - loss: 0.2765 - categorical_accuracy: 0.9206 - val_loss: 1.6578 - val_categorical_accuracy: 0.6100\n",
      "\n",
      "Epoch 00006: saving model to model_init_2021-02-0514_23_30.215137/model-00006-0.27650-0.92059-1.65785-0.61000.h5\n",
      "Epoch 7/15\n",
      "34/34 [==============================] - 62s 2s/step - loss: 0.2588 - categorical_accuracy: 0.9162 - val_loss: 0.4086 - val_categorical_accuracy: 0.8700\n",
      "\n",
      "Epoch 00007: saving model to model_init_2021-02-0514_23_30.215137/model-00007-0.25878-0.91618-0.40857-0.87000.h5\n",
      "Epoch 8/15\n",
      "34/34 [==============================] - 62s 2s/step - loss: 0.1883 - categorical_accuracy: 0.9618 - val_loss: 0.4445 - val_categorical_accuracy: 0.8300\n",
      "\n",
      "Epoch 00008: saving model to model_init_2021-02-0514_23_30.215137/model-00008-0.18825-0.96176-0.44451-0.83000.h5\n",
      "Epoch 9/15\n",
      "34/34 [==============================] - 61s 2s/step - loss: 0.1076 - categorical_accuracy: 0.9735 - val_loss: 0.2683 - val_categorical_accuracy: 0.9100\n",
      "\n",
      "Epoch 00009: saving model to model_init_2021-02-0514_23_30.215137/model-00009-0.10765-0.97353-0.26830-0.91000.h5\n",
      "Epoch 10/15\n",
      "34/34 [==============================] - 61s 2s/step - loss: 0.1934 - categorical_accuracy: 0.9574 - val_loss: 1.1584 - val_categorical_accuracy: 0.7000\n",
      "\n",
      "Epoch 00010: saving model to model_init_2021-02-0514_23_30.215137/model-00010-0.19344-0.95735-1.15838-0.70000.h5\n",
      "Epoch 11/15\n",
      "34/34 [==============================] - 60s 2s/step - loss: 0.1576 - categorical_accuracy: 0.9750 - val_loss: 0.3166 - val_categorical_accuracy: 0.8900\n",
      "\n",
      "Epoch 00011: saving model to model_init_2021-02-0514_23_30.215137/model-00011-0.15759-0.97500-0.31660-0.89000.h5\n",
      "Epoch 12/15\n",
      "34/34 [==============================] - 60s 2s/step - loss: 0.1810 - categorical_accuracy: 0.9529 - val_loss: 0.2069 - val_categorical_accuracy: 0.9200\n",
      "\n",
      "Epoch 00012: saving model to model_init_2021-02-0514_23_30.215137/model-00012-0.18100-0.95294-0.20692-0.92000.h5\n",
      "Epoch 13/15\n",
      "34/34 [==============================] - 58s 2s/step - loss: 0.1726 - categorical_accuracy: 0.9632 - val_loss: 0.3839 - val_categorical_accuracy: 0.8300\n",
      "\n",
      "Epoch 00013: saving model to model_init_2021-02-0514_23_30.215137/model-00013-0.17261-0.96324-0.38394-0.83000.h5\n",
      "Epoch 14/15\n",
      "34/34 [==============================] - 59s 2s/step - loss: 0.1392 - categorical_accuracy: 0.9662 - val_loss: 0.4554 - val_categorical_accuracy: 0.8700\n",
      "\n",
      "Epoch 00014: saving model to model_init_2021-02-0514_23_30.215137/model-00014-0.13920-0.96618-0.45540-0.87000.h5\n",
      "Epoch 15/15\n",
      "34/34 [==============================] - 60s 2s/step - loss: 0.1502 - categorical_accuracy: 0.9662 - val_loss: 0.3154 - val_categorical_accuracy: 0.8600\n",
      "\n",
      "Epoch 00015: saving model to model_init_2021-02-0514_23_30.215137/model-00015-0.15022-0.96618-0.31544-0.86000.h5\n"
     ]
    },
    {
     "data": {
      "image/png": "[encoded data removed]",
      "text/plain": [
       "<Figure size 432x288 with 1 Axes>"
      ]
     },
     "metadata": {},
     "output_type": "display_data"
    },
    {
     "data": {
      "image/png": "[encoded data removed]",
      "text/plain": [
       "<Figure size 432x288 with 1 Axes>"
      ]
     },
     "metadata": {},
     "output_type": "display_data"
    }
   ],
   "source": [
    "# Libraries for mobilenet\n",
    "from keras.applications import ResNet50, mobilenet\n",
    "from keras.applications.resnet50 import preprocess_input\n",
    "from keras.layers import Dense, GlobalAveragePooling2D, GRU\n",
    "from keras.models import Model, load_model\n",
    "\n",
    "batch_size = 20 #experiment with the batch size\n",
    "num_epochs = 15 # choose the number of epochs\n",
    "\n",
    "nb_featuremap = [16,32,64,128,256]\n",
    "nb_dense = [128,64,32,5]\n",
    "dropout = 0.25\n",
    "nb_classes = 5\n",
    "frames = 15\n",
    "\n",
    "# Input\n",
    "input_shape=(frames,120,120,3)\n",
    "\n",
    "# Get base model: mobilenet \n",
    "base_model = mobilenet.MobileNet(weights='imagenet', include_top=False)\n",
    "\n",
    "model = Sequential()\n",
    "model.add(TimeDistributed(base_model,input_shape=input_shape))\n",
    "\n",
    "model.add(TimeDistributed(BatchNormalization()))\n",
    "model.add(TimeDistributed(MaxPooling2D((2, 2))))\n",
    "model.add(TimeDistributed(Flatten()))\n",
    "\n",
    "model.add(GRU(64, return_sequences=False))\n",
    "model.add(Dropout(dropout))\n",
    "\n",
    "model.add(Dense(nb_dense[1],activation='relu'))\n",
    "model.add(Dropout(dropout))\n",
    "\n",
    "\n",
    "model.add(Dense(nb_classes, activation='softmax')) # using Softmax as last layer\n",
    "\n",
    "## Build model\n",
    "# Definition buildmodel(model,epochsize,batchsize, optimiser, lr)\n",
    "model8 = buildmodel(model,num_epochs,batch_size,\"Adam\",0.001)"
   ]
  },
  {
   "cell_type": "code",
   "execution_count": null,
   "metadata": {},
   "outputs": [],
   "source": []
  }
 ],
 "metadata": {
  "kernelspec": {
   "display_name": "Python 3",
   "language": "python",
   "name": "python3"
  },
  "language_info": {
   "codemirror_mode": {
    "name": "ipython",
    "version": 3
   },
   "file_extension": ".py",
   "mimetype": "text/x-python",
   "name": "python",
   "nbconvert_exporter": "python",
   "pygments_lexer": "ipython3",
   "version": "3.7.6"
  }
 },
 "nbformat": 4,
 "nbformat_minor": 2
}
